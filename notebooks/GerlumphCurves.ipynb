{
 "cells": [
  {
   "cell_type": "code",
   "execution_count": null,
   "metadata": {},
   "outputs": [],
   "source": [
    "import numpy as np\n",
    "import pandas as pd\n",
    "import matplotlib.pyplot as plt\n",
    "from scipy import special\n",
    "from sklearn.gaussian_process import GaussianProcessRegressor\n",
    "from sklearn.gaussian_process.kernels import RBF, Matern, ConstantKernel\n",
    "\n",
    "plt.rcParams['figure.figsize'] = (12, 10)"
   ]
  },
  {
   "cell_type": "code",
   "execution_count": null,
   "metadata": {},
   "outputs": [],
   "source": [
    "times_u = pd.read_csv(\"../data/gerlumph_data/u_dates.dat\", header=None, sep=\" \") \n",
    "imageA_u = pd.read_csv(\"../data/gerlumph_data/u_A.dat\", header=None) \n",
    "imageB_u = pd.read_csv(\"../data/gerlumph_data/u_B.dat\", header=None) "
   ]
  },
  {
   "cell_type": "code",
   "execution_count": null,
   "metadata": {},
   "outputs": [],
   "source": [
    "times_i = pd.read_csv(\"../data/gerlumph_data/i_dates.dat\", header=None, sep=\" \") \n",
    "imageA_i = pd.read_csv(\"../data/gerlumph_data/i_A.dat\", header=None) "
   ]
  },
  {
   "cell_type": "code",
   "execution_count": null,
   "metadata": {},
   "outputs": [],
   "source": [
    "times_u.columns = ['t_u', 'dt_u']\n",
    "imageA_u.columns = ['A_u']\n",
    "imageB_u.columns = ['B_u']\n",
    "times_i.columns = ['t_i', 'dt_i']\n",
    "imageA_i.columns = ['A_i']"
   ]
  },
  {
   "cell_type": "code",
   "execution_count": null,
   "metadata": {},
   "outputs": [],
   "source": [
    "df = pd.concat([times_u, imageA_u, imageB_u, times_i, imageA_i], axis=1)"
   ]
  },
  {
   "cell_type": "code",
   "execution_count": null,
   "metadata": {},
   "outputs": [],
   "source": [
    "fig, ax = plt.subplots()\n",
    "fig.set_size_inches(9.8, 8.5)\n",
    "plt.plot(df['t_u'], df['A_u'], \"bo\")\n",
    "plt.plot(df['t_i'], df['A_i'], \"ro\")\n",
    "#plt.plot(b[\"JulianDate\"], mag_B, \"darkblue\")\n",
    "#plt.title(\"Magnitudini totali delle 4 immagini\", size=25)\n",
    "plt.xlabel(\"Julian Date\", size=25)\n",
    "plt.ylabel(\"Magnitude\", size=25)\n",
    "plt.grid(True)\n",
    "plt.figtext(0.75, 0.25, \"u-filter\", color='blue', size=25)\n",
    "plt.figtext(0.75, 0.20, \"i-filter\", color='red' , size=25)\n",
    "#plt.figtext(0.8, 0.17, \"C\", color=\"darkslategrey\", size=25)\n",
    "#plt.figtext(0.8, 0.13, \"D\", color=\"black\", size=25)"
   ]
  },
  {
   "cell_type": "code",
   "execution_count": null,
   "metadata": {},
   "outputs": [],
   "source": [
    "t_i = times_i['t_i'].values\n",
    "t_u = times_u['t_u'].values\n",
    "y_i = imageA_i['A_i'].values\n",
    "y_u = imageA_u['A_u'].values"
   ]
  },
  {
   "cell_type": "markdown",
   "metadata": {},
   "source": [
    "### Some useful variables"
   ]
  },
  {
   "cell_type": "code",
   "execution_count": null,
   "metadata": {},
   "outputs": [],
   "source": [
    "## IMPORTANT: Define these errors in a more precise way, for now simple dummy model\n",
    "\n",
    "err_u = 1e-9*y_u\n",
    "err_i = 1e-9*y_i"
   ]
  },
  {
   "cell_type": "markdown",
   "metadata": {},
   "source": [
    "### Define kernel and fit gaussian processes to data points\n",
    "\n",
    "For each curve, the following data are required:\n",
    "\n",
    "* time domain, so the observation dates array\n",
    "* curve values at those times\n",
    "* experimental errors on the curve values\n",
    "\n",
    "The steps are:\n",
    "\n",
    "* Define the Kernel function of the gaussian process\n",
    "* fit the gaussian processes to the data\n",
    "* define the new uniform time domain and use the fitted model to predict the curve values on this domain"
   ]
  },
  {
   "cell_type": "code",
   "execution_count": null,
   "metadata": {},
   "outputs": [],
   "source": [
    "kernel = ConstantKernel(2, (1e-3, 1e2)) * Matern(length_scale=200.0, length_scale_bounds=(1, 300), nu=1.5)\n",
    "\n",
    "# Define errors on curves \n",
    "\n",
    "gp_u = GaussianProcessRegressor(kernel=kernel, alpha=err_u**2,\n",
    "                                n_restarts_optimizer=10, optimizer = 'fmin_l_bfgs_b', normalize_y =True)\n",
    "gp_i = GaussianProcessRegressor(kernel=kernel, alpha=err_i**2,\n",
    "                                n_restarts_optimizer=10, optimizer = 'fmin_l_bfgs_b', normalize_y =True)\n",
    "\n",
    "# Do the fit\n",
    "gp_u.fit(np.expand_dims(t_u,1), y_u)\n",
    "gp_i.fit(np.expand_dims(t_i,1), y_i)\n",
    "\n",
    "\n",
    "gp_step = 0.2\n",
    "# number of points to add on the left and right ends of the domain in order to make possible to shift the signals\n",
    "dt_ext = 100\n",
    "t_min = min(t_u[0], t_i[0])\n",
    "t_max = max(t_i[-1], t_u[-1])\n",
    "support = np.arange(t_min - dt_ext, t_max + dt_ext, gp_step)\n",
    "\n",
    "ypred_u, sigma_u = gp_u.predict(np.expand_dims(support, 1), return_std=True)\n",
    "ypred_i, sigma_i = gp_i.predict(np.expand_dims(support, 1), return_std=True)"
   ]
  },
  {
   "cell_type": "code",
   "execution_count": null,
   "metadata": {},
   "outputs": [],
   "source": [
    "CL = 0.95\n",
    "\n",
    "plt.scatter(t_u, y_u, color='blue')\n",
    "plt.scatter(t_i, y_i, color='green')\n",
    "\n",
    "plt.plot(support, ypred_u, label='U GP prediction', color = 'b')\n",
    "plt.plot(support, ypred_i, label='I GP prediction', color = 'g')\n",
    "\n",
    "plt.fill_between(support, \n",
    "                 ypred_u - special.erfinv(CL)*sigma_u, \n",
    "                 ypred_u + special.erfinv(CL)*sigma_u,\n",
    "                 alpha=.5, fc='b', ec='None', label=r'95\\% confidence interval U')\n",
    "plt.fill_between(support, \n",
    "                 ypred_i - special.erfinv(CL)*sigma_i, \n",
    "                 ypred_i + special.erfinv(CL)*sigma_i,\n",
    "                 alpha=.5, fc='g', ec='None', label=r'95\\% confidence interval I')\n",
    "plt.legend(fontsize=10)"
   ]
  },
  {
   "cell_type": "code",
   "execution_count": null,
   "metadata": {},
   "outputs": [],
   "source": []
  },
  {
   "cell_type": "code",
   "execution_count": null,
   "metadata": {},
   "outputs": [],
   "source": []
  }
 ],
 "metadata": {
  "kernelspec": {
   "display_name": "Python 3",
   "language": "python",
   "name": "python3"
  },
  "language_info": {
   "codemirror_mode": {
    "name": "ipython",
    "version": 3
   },
   "file_extension": ".py",
   "mimetype": "text/x-python",
   "name": "python",
   "nbconvert_exporter": "python",
   "pygments_lexer": "ipython3",
   "version": "3.7.6"
  }
 },
 "nbformat": 4,
 "nbformat_minor": 2
}
