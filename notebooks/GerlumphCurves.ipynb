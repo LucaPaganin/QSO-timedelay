{
 "cells": [
  {
   "cell_type": "code",
   "execution_count": 35,
   "metadata": {},
   "outputs": [],
   "source": [
    "import pandas as pd\n",
    "import matplotlib.pyplot as plt"
   ]
  },
  {
   "cell_type": "code",
   "execution_count": 95,
   "metadata": {},
   "outputs": [],
   "source": [
    "times_u = pd.read_csv(\"../data/gerlumph_data/u_dates.dat\", header=None, sep=\" \") \n",
    "imageA_u = pd.read_csv(\"../data/gerlumph_data/u_A.dat\", header=None) \n",
    "imageB_u = pd.read_csv(\"../data/gerlumph_data/u_B.dat\", header=None) "
   ]
  },
  {
   "cell_type": "code",
   "execution_count": 106,
   "metadata": {},
   "outputs": [],
   "source": [
    "times_i = pd.read_csv(\"../data/gerlumph_data/i_dates.dat\", header=None, sep=\" \") \n",
    "imageA_i = pd.read_csv(\"../data/gerlumph_data/i_A.dat\", header=None) "
   ]
  },
  {
   "cell_type": "code",
   "execution_count": 108,
   "metadata": {},
   "outputs": [],
   "source": [
    "times_u.columns = ['t_u', 'dt_u']\n",
    "imageA_u.columns = ['A_u']\n",
    "imageB_u.columns = ['B_u']\n",
    "times_i.columns = ['t_i', 'dt_i']\n",
    "imageA_i.columns = ['A_i']"
   ]
  },
  {
   "cell_type": "code",
   "execution_count": 123,
   "metadata": {},
   "outputs": [],
   "source": [
    "df = pd.concat([times_u, imageA_u, imageB_u, times_i, imageA_i], axis=1)"
   ]
  },
  {
   "cell_type": "code",
   "execution_count": 116,
   "metadata": {},
   "outputs": [
    {
     "data": {
      "text/plain": [
       "Text(0.75, 0.2, 'i-filter')"
      ]
     },
     "execution_count": 116,
     "metadata": {},
     "output_type": "execute_result"
    },
    {
     "data": {
      "image/png": "[encoded data removed]",
      "text/plain": [
       "<Figure size 705.6x612 with 1 Axes>"
      ]
     },
     "metadata": {
      "needs_background": "light"
     },
     "output_type": "display_data"
    }
   ],
   "source": [
    "fig, ax = plt.subplots()\n",
    "fig.set_size_inches(9.8,8.5)\n",
    "plt.plot(df['t_u'], df['A_u'], \"bo\")\n",
    "plt.plot(df['t_i'], df['A_i'], \"ro\")\n",
    "#plt.plot(b[\"JulianDate\"], mag_B, \"darkblue\")\n",
    "#plt.title(\"Magnitudini totali delle 4 immagini\", size=25)\n",
    "plt.xlabel(\"Julian Date\", size=25)\n",
    "plt.ylabel(\"Magnitude\", size=25)\n",
    "plt.grid(True)\n",
    "plt.figtext(0.75, 0.25, \"u-filter\", color='blue', size=25)\n",
    "plt.figtext(0.75, 0.20, \"i-filter\", color='red', size=25)\n",
    "#plt.figtext(0.8, 0.17, \"C\", color=\"darkslategrey\", size=25)\n",
    "#plt.figtext(0.8, 0.13, \"D\", color=\"black\", size=25)"
   ]
  },
  {
   "cell_type": "code",
   "execution_count": 118,
   "metadata": {},
   "outputs": [],
   "source": [
    "df2 = df.groupby(df['t_u']==df['t_i'])"
   ]
  },
  {
   "cell_type": "code",
   "execution_count": 120,
   "metadata": {},
   "outputs": [
    {
     "data": {
      "text/html": [
       "<div>\n",
       "<style scoped>\n",
       "    .dataframe tbody tr th:only-of-type {\n",
       "        vertical-align: middle;\n",
       "    }\n",
       "\n",
       "    .dataframe tbody tr th {\n",
       "        vertical-align: top;\n",
       "    }\n",
       "\n",
       "    .dataframe thead th {\n",
       "        text-align: right;\n",
       "    }\n",
       "</style>\n",
       "<table border=\"1\" class=\"dataframe\">\n",
       "  <thead>\n",
       "    <tr style=\"text-align: right;\">\n",
       "      <th></th>\n",
       "      <th>t_u</th>\n",
       "      <th>dt_u</th>\n",
       "      <th>A_u</th>\n",
       "      <th>B_u</th>\n",
       "      <th>t_i</th>\n",
       "      <th>dt_i</th>\n",
       "      <th>A_i</th>\n",
       "    </tr>\n",
       "  </thead>\n",
       "  <tbody>\n",
       "    <tr>\n",
       "      <th>0</th>\n",
       "      <td>59843.206892</td>\n",
       "      <td>23.479157</td>\n",
       "      <td>18.50427</td>\n",
       "      <td>18.98857</td>\n",
       "      <td>59768.428229</td>\n",
       "      <td>23.031049</td>\n",
       "      <td>18.36275</td>\n",
       "    </tr>\n",
       "    <tr>\n",
       "      <th>1</th>\n",
       "      <td>59851.145482</td>\n",
       "      <td>23.169317</td>\n",
       "      <td>18.49004</td>\n",
       "      <td>18.98910</td>\n",
       "      <td>59774.401370</td>\n",
       "      <td>23.072382</td>\n",
       "      <td>18.35975</td>\n",
       "    </tr>\n",
       "    <tr>\n",
       "      <th>2</th>\n",
       "      <td>59866.146794</td>\n",
       "      <td>23.124077</td>\n",
       "      <td>18.46230</td>\n",
       "      <td>18.99011</td>\n",
       "      <td>59787.380578</td>\n",
       "      <td>23.205564</td>\n",
       "      <td>18.35327</td>\n",
       "    </tr>\n",
       "    <tr>\n",
       "      <th>3</th>\n",
       "      <td>59872.127243</td>\n",
       "      <td>23.808852</td>\n",
       "      <td>18.45126</td>\n",
       "      <td>18.99051</td>\n",
       "      <td>59793.384760</td>\n",
       "      <td>23.643962</td>\n",
       "      <td>18.35028</td>\n",
       "    </tr>\n",
       "    <tr>\n",
       "      <th>4</th>\n",
       "      <td>59878.114723</td>\n",
       "      <td>23.627871</td>\n",
       "      <td>18.44019</td>\n",
       "      <td>18.99092</td>\n",
       "      <td>59797.338191</td>\n",
       "      <td>23.541481</td>\n",
       "      <td>18.34832</td>\n",
       "    </tr>\n",
       "  </tbody>\n",
       "</table>\n",
       "</div>"
      ],
      "text/plain": [
       "            t_u       dt_u       A_u       B_u           t_i       dt_i  \\\n",
       "0  59843.206892  23.479157  18.50427  18.98857  59768.428229  23.031049   \n",
       "1  59851.145482  23.169317  18.49004  18.98910  59774.401370  23.072382   \n",
       "2  59866.146794  23.124077  18.46230  18.99011  59787.380578  23.205564   \n",
       "3  59872.127243  23.808852  18.45126  18.99051  59793.384760  23.643962   \n",
       "4  59878.114723  23.627871  18.44019  18.99092  59797.338191  23.541481   \n",
       "\n",
       "        A_i  \n",
       "0  18.36275  \n",
       "1  18.35975  \n",
       "2  18.35327  \n",
       "3  18.35028  \n",
       "4  18.34832  "
      ]
     },
     "execution_count": 120,
     "metadata": {},
     "output_type": "execute_result"
    }
   ],
   "source": [
    "df2.head()"
   ]
  },
  {
   "cell_type": "code",
   "execution_count": null,
   "metadata": {},
   "outputs": [],
   "source": []
  }
 ],
 "metadata": {
  "kernelspec": {
   "display_name": "Python 3",
   "language": "python",
   "name": "python3"
  },
  "language_info": {
   "codemirror_mode": {
    "name": "ipython",
    "version": 3
   },
   "file_extension": ".py",
   "mimetype": "text/x-python",
   "name": "python",
   "nbconvert_exporter": "python",
   "pygments_lexer": "ipython3",
   "version": "3.7.7"
  }
 },
 "nbformat": 4,
 "nbformat_minor": 2
}
