{
 "cells": [
  {
   "cell_type": "code",
   "execution_count": null,
   "metadata": {},
   "outputs": [],
   "source": [
    "import numpy as np\n",
    "import pandas as pd\n",
    "import itertools\n",
    "import h5py\n",
    "import matplotlib.pyplot as plt\n",
    "from scipy import stats\n",
    "from scipy import special\n",
    "from scipy import integrate\n",
    "from scipy import interpolate\n",
    "from scipy import linalg\n",
    "from scipy import signal\n",
    "import time\n",
    "from pathlib import Path\n",
    "import os\n",
    "import random\n",
    "from sklearn.gaussian_process import GaussianProcessRegressor\n",
    "from sklearn.gaussian_process.kernels import RBF, Matern, ConstantKernel\n",
    "\n",
    "plt.rcParams['figure.figsize'] = (11, 8)\n",
    "plt.rcParams['figure.dpi'] = 120\n",
    "plt.rcParams['text.usetex'] = True\n",
    "\n",
    "import sys\n",
    "\n",
    "sys.path.insert(0, '..')\n",
    "from modules import structure_func as sf\n",
    "from modules import regression as rg"
   ]
  },
  {
   "cell_type": "code",
   "execution_count": null,
   "metadata": {},
   "outputs": [],
   "source": [
    "file_path = Path('../data/cosmograil_data/RXJ1131_Tewes2013.rdb_-1.txt')\n",
    "\n",
    "qso_id = file_path.name.split('_')[0]\n",
    "data = pd.read_table(file_path)\n",
    "\n",
    "t = data['mhjd'].to_numpy(dtype=np.float64)\n",
    "A = data['mag_A'].to_numpy(dtype=np.float64)\n",
    "errA = data['magerr_A'].to_numpy(dtype=np.float64)\n",
    "\n",
    "N = len(t)"
   ]
  },
  {
   "cell_type": "code",
   "execution_count": null,
   "metadata": {},
   "outputs": [],
   "source": [
    "plt.scatter(t, A)"
   ]
  },
  {
   "cell_type": "code",
   "execution_count": null,
   "metadata": {},
   "outputs": [],
   "source": [
    "tau, v = sf.estimate_structure_func_from_data(t, A, errA)"
   ]
  },
  {
   "cell_type": "code",
   "execution_count": null,
   "metadata": {},
   "outputs": [],
   "source": [
    "def power_law_sf(tau, slope, intercept):\n",
    "    return 10**intercept * tau**slope\n",
    "\n",
    "def fit_sf(tau, v, cut_off):\n",
    "    pars = stats.linregress(np.log10(tau[:cut_off]), np.log10(v[:cut_off]))\n",
    "    slope = pars.slope\n",
    "    intercept = pars.intercept\n",
    "    return slope, intercept\n",
    "\n",
    "def spline_sf(tau, v):\n",
    "    spline = interpolate.UnivariateSpline(tau, v, s=1e-6, k=3)\n",
    "    return spline"
   ]
  },
  {
   "cell_type": "code",
   "execution_count": null,
   "metadata": {},
   "outputs": [],
   "source": [
    "cut_off = int(0.75*len(tau))\n",
    "slope, intercept = fit_sf(tau, v, cut_off)\n",
    "\n",
    "plt.loglog(tau, v, linestyle='None', marker='o', color='g', label='SF')\n",
    "plt.loglog(tau[:cut_off], v[:cut_off], linestyle='None', marker='o', color='b', label='SF with cutoff')\n",
    "plt.loglog(tau[:cut_off], power_law_sf(tau[:cut_off], slope, intercept), color='r', \n",
    "           label=f'power law: slope {slope:.3f} intercept {intercept:.3f}')\n",
    "# v_spline = spline_sf(tau, v)\n",
    "# plt.loglog(tau, v_spline(tau))\n",
    "plt.legend()\n",
    "print('Max lag considered: %s days ' % tau[cut_off-1])\n",
    "print('Max existing lag: %s days ' % tau.max())"
   ]
  },
  {
   "cell_type": "code",
   "execution_count": null,
   "metadata": {},
   "outputs": [],
   "source": [
    "N_MC = 300\n",
    "delta_max = 30\n",
    "delta_ensemble = np.random.random(size=N_MC) * delta_max\n",
    "\n",
    "hf = h5py.File(f'{qso_id}_random_delays_0_{delta_max}.h5', 'w')\n",
    "\n",
    "hf.create_dataset('t_domain', data=t, compression='gzip', compression_opts=9)\n",
    "\n",
    "t0 = time.time()\n",
    "\n",
    "for i, delay in enumerate(delta_ensemble):\n",
    "    N = len(t)\n",
    "    t_doubled = np.concatenate([t, t - delay])\n",
    "    tau_doubled = sf.compute_lags_matrix(t_doubled)\n",
    "    A2_mean = (A**2).mean()\n",
    "    C = A2_mean - power_law_sf(tau_doubled, slope, intercept)\n",
    "    errA_doubled = np.concatenate([errA, errA])\n",
    "    L = np.linalg.cholesky(C)\n",
    "    y = L @ np.random.normal(0, 1, size=2*N) + errA_doubled**2 * np.random.normal(0, 1, size=2*N)\n",
    "    \n",
    "    yA = y[:N]\n",
    "    yA_delayed = y[N:]\n",
    "    \n",
    "    yA = (yA-yA.mean())/yA.std()\n",
    "    yA_delayed = (yA_delayed-yA_delayed.mean())/yA_delayed.std()\n",
    "    \n",
    "    group = hf.create_group(f'realization_{i+1}')\n",
    "    \n",
    "    group.create_dataset('delay', data=np.array(delay))\n",
    "    group.create_dataset('y', data=yA, compression='gzip', compression_opts=9)\n",
    "    group.create_dataset('y_delayed', data=yA_delayed, compression='gzip', compression_opts=9)\n",
    "    \n",
    "tf = time.time()\n",
    "hf.close()\n",
    "print(f'Elapsed time: {tf-t0} s')"
   ]
  },
  {
   "cell_type": "code",
   "execution_count": null,
   "metadata": {},
   "outputs": [],
   "source": [
    "hf = h5py.File('RXJ1131_random_delays_0_30.h5', 'r')"
   ]
  },
  {
   "cell_type": "code",
   "execution_count": null,
   "metadata": {},
   "outputs": [],
   "source": [
    "t_dom = hf['t_domain'][()]"
   ]
  },
  {
   "cell_type": "code",
   "execution_count": null,
   "metadata": {},
   "outputs": [],
   "source": [
    "dataset_1 = hf['realization_1']\n",
    "dataset_5 = hf['realization_5']\n",
    "dataset_30 = hf['realization_30']"
   ]
  },
  {
   "cell_type": "code",
   "execution_count": null,
   "metadata": {},
   "outputs": [],
   "source": [
    "scaled_data = (A-A.mean())/A.std()"
   ]
  },
  {
   "cell_type": "code",
   "execution_count": null,
   "metadata": {},
   "outputs": [],
   "source": [
    "plt.scatter(t_dom, dataset_1['y'], label='realization 1', color='b')\n",
    "plt.scatter(t_dom, scaled_data, label=f'true data {qso_id} image A', color='black')\n",
    "plt.legend()\n",
    "plt.savefig('realiz1_comparison.pdf')"
   ]
  },
  {
   "cell_type": "code",
   "execution_count": null,
   "metadata": {},
   "outputs": [],
   "source": [
    "plt.scatter(t_dom, dataset_5['y'], label='realization 5', color='r')\n",
    "plt.scatter(t_dom, scaled_data, label=f'true data {qso_id} image A', color='black')\n",
    "plt.legend()\n",
    "plt.savefig('realiz5_comparison.pdf')"
   ]
  },
  {
   "cell_type": "code",
   "execution_count": null,
   "metadata": {},
   "outputs": [],
   "source": [
    "plt.scatter(t_dom, dataset_30['y'], label='realization 30', color='g')\n",
    "plt.scatter(t_dom, scaled_data, label=f'true data {qso_id} image A', color='black')\n",
    "plt.legend()\n",
    "plt.savefig('realiz30_comparison.pdf')"
   ]
  },
  {
   "cell_type": "code",
   "execution_count": null,
   "metadata": {},
   "outputs": [],
   "source": [
    "plt.scatter(t_dom, dataset_5['y'][()], color='b', label='MonteCarlo curve 1')\n",
    "plt.scatter(t_dom, dataset_5['y_delayed'][()], color='r', \n",
    "            label=f\"MonteCarlo curve 2: delayed by {dataset_5['delay'][()]:.2f} days\")\n",
    "plt.legend()\n",
    "plt.savefig('Montecarlo_y_vs_y_delayed.pdf')"
   ]
  },
  {
   "cell_type": "code",
   "execution_count": null,
   "metadata": {},
   "outputs": [],
   "source": [
    "L = np.linalg.cholesky(C)\n",
    "plt.imshow(np.log10(L), cmap='bwr')\n",
    "\n",
    "y_f = L @ (np.random.normal(0, 1, size=len(eigvals)))\n",
    "\n",
    "y_1 = y_f[:N]\n",
    "y_2 = y_f[N:]"
   ]
  },
  {
   "cell_type": "code",
   "execution_count": null,
   "metadata": {},
   "outputs": [],
   "source": [
    "plt.scatter(t, y_1 - y_1.mean(), label='Montecarlo A')\n",
    "plt.scatter(t, y_2 - y_2.mean(), label='Montecarlo B')\n",
    "plt.scatter(t, A - A.mean(), label='true data')\n",
    "plt.legend()"
   ]
  },
  {
   "cell_type": "code",
   "execution_count": null,
   "metadata": {},
   "outputs": [],
   "source": [
    "tau_sim, v_sim = sf.estimate_structure_func_from_data(t, y_1, errA)"
   ]
  },
  {
   "cell_type": "code",
   "execution_count": null,
   "metadata": {},
   "outputs": [],
   "source": [
    "plt.loglog(tau, v, label='data')\n",
    "plt.loglog(tau_sim, v_sim, label='Montecarlo')\n",
    "plt.loglog(tau_sim, 10**intercept * tau_sim**slope)\n",
    "plt.legend()"
   ]
  },
  {
   "cell_type": "code",
   "execution_count": null,
   "metadata": {},
   "outputs": [],
   "source": [
    "np.random.seed(1234)\n",
    "\n",
    "R = np.linalg.cholesky(C)\n",
    "\n",
    "y_new = R @ np.random.normal(0, 1 ,size=2*N)\n",
    "\n",
    "yA = y_new[:N]\n",
    "yB = y_new[N:]\n",
    "\n",
    "yA -= yA.mean()\n",
    "yB -= yB.mean()\n",
    "\n",
    "plt.scatter(t, yA, label='Montecarlo A')\n",
    "plt.scatter(t, yB, label='Montecarlo A shifted')\n",
    "plt.scatter(t, A-A.mean(), label='true A')\n",
    "plt.legend()"
   ]
  },
  {
   "cell_type": "code",
   "execution_count": null,
   "metadata": {},
   "outputs": [],
   "source": [
    "kernel = ConstantKernel(2, (1e-3, 1e2)) * Matern(length_scale=200.0, length_scale_bounds=(1, 300), nu=1.5)\n",
    "\n",
    "gp1 = rg.fit_GP_to_lightcurve(t, yA, errA, kernel)\n",
    "gp2 = rg.fit_GP_to_lightcurve(t, yB, errA, kernel)"
   ]
  },
  {
   "cell_type": "code",
   "execution_count": null,
   "metadata": {},
   "outputs": [],
   "source": [
    "gp_step = 2\n",
    "support = np.arange(t[0] - 5e1, t[-1] + 5e1, gp_step)\n",
    "gpA = rg.fit_GP_to_lightcurve(t, A, errA, kernel)\n",
    "ypred1, cov1 = gpA.predict(np.expand_dims(support, 1), return_cov=True)"
   ]
  },
  {
   "cell_type": "code",
   "execution_count": null,
   "metadata": {},
   "outputs": [],
   "source": [
    "plt.imshow(cov1, cmap='bwr')"
   ]
  },
  {
   "cell_type": "code",
   "execution_count": null,
   "metadata": {},
   "outputs": [],
   "source": [
    "R = np.linalg.cholesky(cov1)\n",
    "\n",
    "ynew = R @ np.random.normal(0, 1, size=R.shape[0])"
   ]
  },
  {
   "cell_type": "code",
   "execution_count": null,
   "metadata": {},
   "outputs": [],
   "source": [
    "eigvals, eigvecs = np.linalg.eigh(cov1)\n",
    "Z = eigvecs"
   ]
  },
  {
   "cell_type": "code",
   "execution_count": null,
   "metadata": {},
   "outputs": [],
   "source": [
    "ynew = Z @ (np.sqrt(eigvals) * np.random.normal(size=len(eigvals)))"
   ]
  },
  {
   "cell_type": "code",
   "execution_count": null,
   "metadata": {},
   "outputs": [],
   "source": [
    "plt.plot(ynew)"
   ]
  },
  {
   "cell_type": "code",
   "execution_count": null,
   "metadata": {},
   "outputs": [],
   "source": [
    "gp_step = 0.2\n",
    "support = np.arange(t[0] - 5e1, t[-1] + 5e1, gp_step)\n",
    "y_pred1, sigma1 = gp1.predict(np.expand_dims(support,1), return_std=True)\n",
    "y_pred2, sigma2 = gp2.predict(np.expand_dims(support,1), return_std=True)"
   ]
  },
  {
   "cell_type": "code",
   "execution_count": null,
   "metadata": {},
   "outputs": [],
   "source": [
    "plt.figure()\n",
    "plt.plot(t, yB, 'g.', markersize=3, label='MontecarloA')\n",
    "plt.plot(t, yA, 'b.', markersize=3, label='MontecarloB')\n",
    "plt.plot(support, y_pred1, 'b-', label='PredictionA')\n",
    "plt.plot(support, y_pred2, 'g-', label='PredictionB')\n",
    "plt.fill_between(support, y_pred1 - special.erfinv(0.95)*sigma1, y_pred1 + special.erfinv(0.95)*sigma1,\n",
    "         alpha=.5, fc='b', ec='None', label='95% confidence interval B')\n",
    "plt.fill_between(support, y_pred2 - special.erfinv(0.95)*sigma2, y_pred2 + special.erfinv(0.95)*sigma2,\n",
    "         alpha=.5, fc='g', ec='None', label='95% confidence interval A')\n",
    "plt.xlabel('$t$')\n",
    "plt.ylabel('$f(t)$')\n",
    "plt.legend()"
   ]
  },
  {
   "cell_type": "code",
   "execution_count": null,
   "metadata": {},
   "outputs": [],
   "source": [
    "delay = rg.time_delay_grid_search(y_pred1, y_pred2, sigma1, sigma2, gp_step,\n",
    "                                  dt_min=0, dt_max=100)\n",
    "print('Estimated time delay: %s days' % delay)"
   ]
  },
  {
   "cell_type": "code",
   "execution_count": null,
   "metadata": {},
   "outputs": [],
   "source": [
    "t0 = time.time()\n",
    "\n",
    "true_delays = np.arange(20, 30, 1)\n",
    "np.random.seed(1234)\n",
    "simulated_curves = {}\n",
    "estimated_delays = []\n",
    "for delay in true_delays:\n",
    "    print(delay)\n",
    "    t_doubled = np.concatenate([t, t-delay])\n",
    "    tau_doubled = sf.compute_lags_matrix(t_doubled)\n",
    "\n",
    "    y2_mean = (y**2).mean()\n",
    "    C = y2_mean - power_law_sf(tau_doubled, slope, intercept)\n",
    "    C += 1e-10*np.eye(C.shape[0])\n",
    "    R = np.linalg.cholesky(C)\n",
    "    \n",
    "    y_new = R @ np.random.normal(0, 1 ,size=2*N)\n",
    "    yA = y_new[:N]\n",
    "    yB = y_new[N:]\n",
    "    yA -= yA.mean()\n",
    "    yB -= yB.mean()\n",
    "    \"\"\"\n",
    "    \n",
    "    gp1 = rg.fit_GP_to_lightcurve(t, yA, err_y, kernel)\n",
    "    gp2 = rg.fit_GP_to_lightcurve(t, yB, err_y, kernel)\n",
    "    gp_step = 0.2\n",
    "    support = np.arange(t[0] - 5e1, t[-1] + 5e1, gp_step)\n",
    "    y_pred1, sigma1 = gp1.predict(np.expand_dims(support,1), return_std=True)\n",
    "    y_pred2, sigma2 = gp2.predict(np.expand_dims(support,1), return_std=True)\n",
    "    estimated_delay = rg.time_delay_grid_search(y_pred1, y_pred2, sigma1, sigma2, gp_step,\n",
    "                                                dt_min=0, dt_max=100)\n",
    "    estimated_delays.append(estimated_delay)\n",
    "    \"\"\"\n",
    "    \n",
    "    simulated_curves[delay] = [yA, yB]\n",
    "    \n",
    "\n",
    "estimated_delays = np.array(estimated_delays)\n",
    "tf = time.time()\n",
    "print('Elapsed time: %s' % (tf - t0))"
   ]
  },
  {
   "cell_type": "code",
   "execution_count": null,
   "metadata": {},
   "outputs": [],
   "source": []
  },
  {
   "cell_type": "code",
   "execution_count": null,
   "metadata": {},
   "outputs": [],
   "source": [
    "plt.scatter(true_delays, estimated_delays)"
   ]
  },
  {
   "cell_type": "code",
   "execution_count": null,
   "metadata": {},
   "outputs": [],
   "source": [
    "d = 20\n",
    "plt.scatter(t, simulated_curves[d][0], label='ref delay %s ' % d)\n",
    "plt.scatter(t, simulated_curves[d][1], label='shifted')\n",
    "plt.scatter(t, y-y.mean(), label='HE0435')\n",
    "plt.legend()"
   ]
  },
  {
   "cell_type": "code",
   "execution_count": null,
   "metadata": {},
   "outputs": [],
   "source": [
    "A = np.array([[3,2],[2,4]])"
   ]
  },
  {
   "cell_type": "code",
   "execution_count": null,
   "metadata": {},
   "outputs": [],
   "source": [
    "eigvals, eigvecs = np.linalg.eigh(A)"
   ]
  },
  {
   "cell_type": "code",
   "execution_count": null,
   "metadata": {},
   "outputs": [],
   "source": [
    "Z = eigvecs.T\n",
    "sqrtLambda = np.diag(np.sqrt(eigvals))"
   ]
  },
  {
   "cell_type": "code",
   "execution_count": null,
   "metadata": {},
   "outputs": [],
   "source": [
    "np.linalg.qr(sqrtLambda @ Z)"
   ]
  },
  {
   "cell_type": "code",
   "execution_count": null,
   "metadata": {},
   "outputs": [],
   "source": [
    "np.linalg.cholesky(A)"
   ]
  },
  {
   "cell_type": "code",
   "execution_count": null,
   "metadata": {},
   "outputs": [],
   "source": [
    "Z.T @ np.diag(eigvals) @ Z"
   ]
  },
  {
   "cell_type": "code",
   "execution_count": null,
   "metadata": {},
   "outputs": [],
   "source": [
    "20*300/60"
   ]
  },
  {
   "cell_type": "code",
   "execution_count": null,
   "metadata": {},
   "outputs": [],
   "source": []
  }
 ],
 "metadata": {
  "kernelspec": {
   "display_name": "Python 3",
   "language": "python",
   "name": "python3"
  },
  "language_info": {
   "codemirror_mode": {
    "name": "ipython",
    "version": 3
   },
   "file_extension": ".py",
   "mimetype": "text/x-python",
   "name": "python",
   "nbconvert_exporter": "python",
   "pygments_lexer": "ipython3",
   "version": "3.7.6"
  }
 },
 "nbformat": 4,
 "nbformat_minor": 4
}
