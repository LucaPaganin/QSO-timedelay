{
 "cells": [
  {
   "cell_type": "code",
   "execution_count": null,
   "metadata": {},
   "outputs": [],
   "source": [
    "import numpy as np\n",
    "import pandas as pd\n",
    "import itertools\n",
    "import h5py\n",
    "import matplotlib.pyplot as plt\n",
    "from scipy import stats\n",
    "from scipy import special\n",
    "from scipy import integrate\n",
    "from scipy import interpolate\n",
    "from scipy import linalg\n",
    "from scipy import signal\n",
    "from scipy.optimize import curve_fit\n",
    "import time\n",
    "from pathlib import Path\n",
    "import os\n",
    "import random\n",
    "from sklearn.gaussian_process import GaussianProcessRegressor\n",
    "from sklearn.gaussian_process.kernels import RBF, Matern, ConstantKernel\n",
    "\n",
    "plt.rcParams['figure.figsize'] = (8, 6)\n",
    "plt.rcParams['figure.dpi'] = 120\n",
    "plt.rcParams['text.usetex'] = True\n",
    "\n",
    "import sys\n",
    "import mpld3\n",
    "\n",
    "from typing import Tuple\n",
    "\n",
    "def power_law_sf(tau, slope, intercept):\n",
    "    return 10**intercept * tau**slope\n",
    "\n",
    "\n",
    "def exp_sf(tau, V0, dt0):\n",
    "    return V0*(1-np.exp(-tau/dt0))\n",
    "\n",
    "\n",
    "def spline_sf(tau, v):\n",
    "    spline = interpolate.UnivariateSpline(tau, v, s=1e-6, k=3)\n",
    "    return spline\n",
    "\n",
    "\n",
    "def compute_lags_matrix(t) -> np.ndarray:\n",
    "    N = len(t)\n",
    "    t_row_repeated = np.repeat(t[np.newaxis, :], N, axis=0)\n",
    "    t_col_repeated = np.repeat(t[:, np.newaxis], N, axis=1)\n",
    "    tau = np.abs(t_row_repeated - t_col_repeated)\n",
    "    return tau\n",
    "\n",
    "\n",
    "def estimate_structure_func_from_data(t, y, err_y) -> Tuple[np.ndarray]:\n",
    "    N = len(t)\n",
    "    y_row_repeated = np.repeat(y[np.newaxis, :], N, axis=0)\n",
    "    y_col_repeated = np.repeat(y[:, np.newaxis], N, axis=1)\n",
    "    err_y_row_repeated = np.repeat(err_y[np.newaxis, :], N, axis=0)\n",
    "    err_y_col_repeated = np.repeat(err_y[:, np.newaxis], N, axis=1)\n",
    "    v = (y_row_repeated - y_col_repeated)**2 - (err_y_row_repeated**2 + err_y_col_repeated**2)\n",
    "    tau = compute_lags_matrix(t)\n",
    "    tau_v_sorted = np.array([[mytau, myv] for mytau, myv in sorted(zip(tau.ravel(), v.ravel()))])\n",
    "    tau_vals = tau_v_sorted[:, 0]\n",
    "    v_vals = tau_v_sorted[:, 1]\n",
    "    tau_binned = stats.binned_statistic(tau_vals, tau_vals, bins=100)[0]\n",
    "    v_binned = stats.binned_statistic(tau_vals, v_vals, bins=100)[0]\n",
    "    return tau_binned, v_binned\n",
    "\n",
    "def generate_PRH_light_curves(support, y, sigma, slope, intercept, delay):\n",
    "    N = len(support)\n",
    "    t_doubled = np.concatenate([support, support - delay])\n",
    "    err_doubled = np.concatenate([sigma, sigma])\n",
    "    tau_doubled = compute_lags_matrix(t_doubled)\n",
    "    s2 = (y**2).mean()\n",
    "    C = s2 - power_law_sf(tau_doubled, slope, intercept)\n",
    "    C += 1e-10*np.eye(2*N)\n",
    "    L = np.linalg.cholesky(C)\n",
    "    y = L @ np.random.normal(0, 1, 2*N) + err_doubled @ np.random.normal(0, 1, 2*N)\n",
    "    \n",
    "    yA = y[:N] - y[:N].mean()\n",
    "    yB = y[N:] - y[N:].mean()\n",
    "    \n",
    "    return yA, yB"
   ]
  },
  {
   "cell_type": "code",
   "execution_count": null,
   "metadata": {},
   "outputs": [],
   "source": [
    "file_path = Path('../data/cosmograil/HE0435_Bonvin2016.rdb_.txt')\n",
    "\n",
    "qso_id = file_path.name.split('_')[0]\n",
    "data = pd.read_table(file_path)\n",
    "\n",
    "t = data['mhjd'].to_numpy(dtype=np.float64)\n",
    "A = data['mag_A'].to_numpy(dtype=np.float64)\n",
    "errA = data['magerr_A'].to_numpy(dtype=np.float64)"
   ]
  },
  {
   "cell_type": "code",
   "execution_count": null,
   "metadata": {},
   "outputs": [],
   "source": [
    "kernel = ConstantKernel(2, (1e-3, 1e2)) * Matern(length_scale=200.0, length_scale_bounds=(1, 300), nu=1.5)\n",
    "\n",
    "gp = GaussianProcessRegressor(kernel=kernel, alpha=errA**2, n_restarts_optimizer=10, \n",
    "                              optimizer='fmin_l_bfgs_b', normalize_y=True)\n",
    "\n",
    "gp.fit(np.expand_dims(t,1), A)\n",
    "\n",
    "N = 2000\n",
    "support = np.linspace(t[0], t[-1], N)\n",
    "\n",
    "A_pred, sigmaA = gp.predict(np.expand_dims(support, 1), return_std=True)"
   ]
  },
  {
   "cell_type": "code",
   "execution_count": null,
   "metadata": {},
   "outputs": [],
   "source": [
    "plt.scatter(t, A, color='b')\n",
    "plt.plot(support, A_pred, color='b')\n",
    "plt.fill_between(support, A_pred - 1.96*sigmaA, A_pred + 1.96*sigmaA, fc='b', alpha=0.5)"
   ]
  },
  {
   "cell_type": "code",
   "execution_count": null,
   "metadata": {},
   "outputs": [],
   "source": [
    "tau, v = estimate_structure_func_from_data(support, A_pred, sigmaA)\n",
    "\n",
    "beg_off = int(0.10*len(tau))\n",
    "cut_off = int(0.60*len(tau))\n",
    "\n",
    "x = tau[beg_off:cut_off]\n",
    "y = v[beg_off:cut_off]\n",
    "\n",
    "pars = stats.linregress(np.log10(x), np.log10(y))\n",
    "slope = pars.slope\n",
    "intercept = pars.intercept"
   ]
  },
  {
   "cell_type": "code",
   "execution_count": null,
   "metadata": {},
   "outputs": [],
   "source": [
    "t0 = time.time()\n",
    "N_MC = int(1e3)\n",
    "Xdata = []\n",
    "true_delays = np.random.random(N_MC)*100\n",
    "\n",
    "for delay in true_delays:\n",
    "    yA, yB = generate_PRH_light_curves(support, y, sigma, slope, intercept, delay)\n",
    "    Xdata.append(yA+yB)\n",
    "\n",
    "Xdata = np.stack(Xdata)\n",
    "tf = time.time()"
   ]
  },
  {
   "cell_type": "code",
   "execution_count": null,
   "metadata": {},
   "outputs": [],
   "source": [
    "Xdata = np.stack(Xdata)"
   ]
  },
  {
   "cell_type": "code",
   "execution_count": null,
   "metadata": {},
   "outputs": [],
   "source": [
    "hf = h5py.File(f'HE0435_NMC_{N_MC}_curvesum.h5', 'w')\n",
    "hf.create_dataset(name='X', data=Xdata, compression='gzip', compression_opts=9)\n",
    "hf.create_dataset(name='y', data=true_delays, compression='gzip', compression_opts=9)\n",
    "hf.close()"
   ]
  },
  {
   "cell_type": "code",
   "execution_count": null,
   "metadata": {},
   "outputs": [],
   "source": []
  }
 ],
 "metadata": {
  "kernelspec": {
   "display_name": "Python 3",
   "language": "python",
   "name": "python3"
  },
  "language_info": {
   "codemirror_mode": {
    "name": "ipython",
    "version": 3
   },
   "file_extension": ".py",
   "mimetype": "text/x-python",
   "name": "python",
   "nbconvert_exporter": "python",
   "pygments_lexer": "ipython3",
   "version": "3.7.6"
  }
 },
 "nbformat": 4,
 "nbformat_minor": 4
}
