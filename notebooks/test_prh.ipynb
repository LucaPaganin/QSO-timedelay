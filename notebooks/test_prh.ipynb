{
 "cells": [
  {
   "cell_type": "code",
   "execution_count": null,
   "metadata": {},
   "outputs": [],
   "source": [
    "import numpy as np\n",
    "import pandas as pd\n",
    "import itertools\n",
    "import h5py\n",
    "import matplotlib.pyplot as plt\n",
    "from scipy import stats\n",
    "from scipy import special\n",
    "from scipy import integrate\n",
    "from scipy import interpolate\n",
    "from scipy import linalg\n",
    "from scipy import signal\n",
    "from scipy.optimize import curve_fit\n",
    "import time\n",
    "from pathlib import Path\n",
    "import os\n",
    "import random\n",
    "from sklearn.gaussian_process import GaussianProcessRegressor\n",
    "from sklearn.gaussian_process.kernels import RBF, Matern, ConstantKernel\n",
    "\n",
    "plt.rcParams['figure.figsize'] = (8, 6)\n",
    "plt.rcParams['figure.dpi'] = 120\n",
    "plt.rcParams['text.usetex'] = True\n",
    "\n",
    "import sys\n",
    "import mpld3\n",
    "\n",
    "mpld3.enable_notebook()\n",
    "\n",
    "sys.path.insert(0, '..')\n",
    "from modules import structure_func as sf\n",
    "from modules import regression as rg\n",
    "from modules import prh\n",
    "\n",
    "file_path = Path('../data/cosmograil_data/HE0435_Bonvin2016.rdb_.txt')\n",
    "\n",
    "prh_gen = prh.LightCurvePRHGenerator()\n",
    "prh_gen.loadQSODataFromFile(file_path)"
   ]
  },
  {
   "cell_type": "code",
   "execution_count": null,
   "metadata": {},
   "outputs": [],
   "source": [
    "plt.errorbar(prh_gen.t, prh_gen.qso_lc_vals, prh_gen.qso_lc_errs, marker='o')"
   ]
  },
  {
   "cell_type": "code",
   "execution_count": null,
   "metadata": {},
   "outputs": [],
   "source": [
    "prh_gen.estimateStructureFunction()\n",
    "prh_gen.fitSFModel()"
   ]
  },
  {
   "cell_type": "code",
   "execution_count": null,
   "metadata": {},
   "outputs": [],
   "source": [
    "prh_gen.generatePRHDatasetForDelay(delay=50, N_MC_samples=300, outfile=f'../aux/{prh_gen.qso_id}_delay50days.h5')"
   ]
  },
  {
   "cell_type": "code",
   "execution_count": null,
   "metadata": {},
   "outputs": [],
   "source": [
    "\n",
    "\n",
    "qso_id = file_path.name.split('_')[0]\n",
    "data = pd.read_table(file_path)\n",
    "\n",
    "t = data['mhjd'].to_numpy(dtype=np.float64)\n",
    "A = data['mag_A'].to_numpy(dtype=np.float64)\n",
    "errA = data['magerr_A'].to_numpy(dtype=np.float64)\n",
    "\n",
    "N = len(t)"
   ]
  },
  {
   "cell_type": "code",
   "execution_count": null,
   "metadata": {},
   "outputs": [],
   "source": [
    "smoothing_val = 1e-1\n",
    "\n",
    "qso_spline = interpolate.UnivariateSpline(t, A, s=smoothing_val, k=3)\n",
    "abs_diff = np.abs((qso_spline(t)-A)/A.mean())\n",
    "frac_err_max = abs_diff.max()\n",
    "print(frac_err_max)\n",
    "\n",
    "new_t = np.arange(t[0], t[-1], step=0.2)\n",
    "\n",
    "print(integrate.simps(qso_spline(new_t)**2, new_t)/(t[-1]-t[0]))"
   ]
  },
  {
   "cell_type": "code",
   "execution_count": null,
   "metadata": {},
   "outputs": [],
   "source": [
    "plt.scatter(t, A)\n",
    "plt.plot(new_t, qso_spline(new_t), color='red')"
   ]
  },
  {
   "cell_type": "code",
   "execution_count": null,
   "metadata": {},
   "outputs": [],
   "source": [
    "s_vals = [5e-2, 1e-1, 3e-1, 5e-1, 1]\n",
    "new_t = np.linspace(t[0], t[-1], num=2000)\n",
    "splines_dict = {}\n",
    "for s in s_vals:\n",
    "    spline = interpolate.UnivariateSpline(t, A, s=s, k=3)\n",
    "    splines_dict[s] = spline"
   ]
  },
  {
   "cell_type": "code",
   "execution_count": null,
   "metadata": {},
   "outputs": [],
   "source": [
    "for s in splines_dict.keys():\n",
    "    diff = np.abs((splines_dict[s](t) - A)/A.mean())\n",
    "    print(f's: {s:.2f} FracErrMax = {diff.max()}')"
   ]
  },
  {
   "cell_type": "code",
   "execution_count": null,
   "metadata": {},
   "outputs": [],
   "source": [
    "s = 0.3\n",
    "plt.plot(new_t, splines_dict[s](new_t), label=f's = {s}')\n",
    "plt.legend()\n",
    "plt.scatter(t, A, color='black')"
   ]
  },
  {
   "cell_type": "code",
   "execution_count": null,
   "metadata": {},
   "outputs": [],
   "source": [
    "plt.scatter(t, A, color='b')\n",
    "plt.plot(new_t, spline(new_t), color='r')"
   ]
  },
  {
   "cell_type": "code",
   "execution_count": null,
   "metadata": {},
   "outputs": [],
   "source": []
  },
  {
   "cell_type": "code",
   "execution_count": null,
   "metadata": {},
   "outputs": [],
   "source": [
    "tau, v = sf.estimate_structure_func_from_data(t, A, errA)"
   ]
  },
  {
   "cell_type": "code",
   "execution_count": null,
   "metadata": {},
   "outputs": [],
   "source": [
    "def power_law_sf(tau, slope, intercept):\n",
    "    return 10**intercept * tau**slope\n",
    "\n",
    "def exp_sf(tau, V0, dt0):\n",
    "    return V0*(1-np.exp(-tau/dt0))\n",
    "\n",
    "def fit_sf(tau, v, cut_off):\n",
    "    pars = stats.linregress(np.log10(tau[:cut_off]), np.log10(v[:cut_off]))\n",
    "    slope = pars.slope\n",
    "    intercept = pars.intercept\n",
    "    return slope, intercept\n",
    "\n",
    "def spline_sf(tau, v):\n",
    "    spline = interpolate.UnivariateSpline(tau, v, s=1e-6, k=3)\n",
    "    return spline"
   ]
  },
  {
   "cell_type": "code",
   "execution_count": null,
   "metadata": {},
   "outputs": [],
   "source": [
    "cut_off = int(0.55*len(tau))\n",
    "slope, intercept = fit_sf(tau, v, cut_off)\n",
    "popt, pcov = curve_fit(exp_sf, tau[:cut_off], v[:cut_off])\n",
    "\n",
    "plt.loglog(tau, v, linestyle='None', marker='o', color='g', label='SF')\n",
    "plt.loglog(tau[:cut_off], v[:cut_off], linestyle='None', marker='o', color='b', label='SF with cutoff')\n",
    "plt.loglog(tau[:cut_off], power_law_sf(tau[:cut_off], slope, intercept), color='r', \n",
    "           label=f'power law: slope {slope:.3f} intercept {intercept:.3f}')\n",
    "plt.loglog(tau, exp_sf(tau, *popt), color='orange', \n",
    "           label=f'exponential: V0 {popt[0]:.3f} dt0 {popt[1]:.3f}')\n",
    "# v_spline = spline_sf(tau, v)\n",
    "# plt.loglog(tau, v_spline(tau))\n",
    "plt.legend(fontsize=12)\n",
    "print('Max lag considered: %s days ' % tau[cut_off-1])\n",
    "print('Max existing lag: %s days ' % tau.max())"
   ]
  },
  {
   "cell_type": "code",
   "execution_count": null,
   "metadata": {},
   "outputs": [],
   "source": [
    "# delay = 20\n",
    "s2 = integrate.simps(spline(new_t)**2, new_t) / (new_t[-1] - new_t[0])\n",
    "errA_doubled = np.concatenate([errA, errA])\n",
    "# s2 = (A**2).mean()\n",
    "curves = []\n",
    "N = len(t)\n",
    "counter = 0\n",
    "for delay in np.arange(50, 60, 1):\n",
    "    t_doubled = np.concatenate([t, t - delay])\n",
    "    tau_doubled = sf.compute_lags_matrix(t_doubled)\n",
    "    C = s2 - power_law_sf(tau_doubled, slope, intercept)\n",
    "    C += 1e-10*np.eye(2*N)\n",
    "    eigvals = np.linalg.eigvalsh(C)\n",
    "    if np.all(eigvals > 0):\n",
    "        counter += 1\n",
    "        try:\n",
    "            L = np.linalg.cholesky(C)\n",
    "            y = L @ np.random.normal(0, 1, size=2*N) + errA_doubled * np.random.normal(0, 1, size=2*N)\n",
    "            curves.append([y[:N], y[N:]])\n",
    "        except np.linalg.LinAlgError:\n",
    "            print(delay)\n",
    "            print(eigvals.min())"
   ]
  },
  {
   "cell_type": "code",
   "execution_count": null,
   "metadata": {},
   "outputs": [],
   "source": [
    "idx=9\n",
    "plt.scatter(t, curves[idx][0] - curves[idx][0].mean(), label='realization %s' % idx, color='r')\n",
    "plt.scatter(t, A-A.mean(), color='black')"
   ]
  },
  {
   "cell_type": "code",
   "execution_count": null,
   "metadata": {},
   "outputs": [],
   "source": [
    "sim_sfs = []\n",
    "\n",
    "for idx in range(10):\n",
    "    _, v_sim = sf.estimate_structure_func_from_data(t, curves[idx][0], errA)\n",
    "    sim_sfs.append(v_sim)"
   ]
  },
  {
   "cell_type": "code",
   "execution_count": null,
   "metadata": {},
   "outputs": [],
   "source": [
    "plt.loglog(tau, sim_sfs[idx], linestyle='None', marker='o', color='r')\n",
    "plt.loglog(tau, v, linestyle='None', marker='o', color='black')"
   ]
  },
  {
   "cell_type": "code",
   "execution_count": null,
   "metadata": {},
   "outputs": [],
   "source": [
    "delays = np.arange(1, 100, 1)\n",
    "\n",
    "curves = []\n",
    "\n",
    "for delay in delays:\n",
    "    N = len(t)\n",
    "    t_doubled = np.concatenate([t, t - delay])\n",
    "    tau_doubled = sf.compute_lags_matrix(t_doubled)\n",
    "    A2_mean = (A**2).mean()\n",
    "    C = A2_mean - exp_sf(tau_doubled, *popt)\n",
    "    # C = A2_mean - power_law_sf(tau_doubled, slope, intercept)\n",
    "    # C += 1e-10 * np.eye(2*N)\n",
    "    errA_doubled = np.concatenate([errA, errA])\n",
    "    L = np.linalg.cholesky(C)\n",
    "    y = L @ np.random.normal(0, 1, size=2*N) + errA_doubled**2 * np.random.normal(0, 1, size=2*N)\n",
    "    curves.append([y[:N], y[N:]])\n",
    "\"\"\"\n",
    "L = np.linalg.cholesky(C)\n",
    "y = L @ np.random.normal(0, 1, size=2*N) + errA_doubled**2 * np.random.normal(0, 1, size=2*N)\n",
    "\"\"\""
   ]
  },
  {
   "cell_type": "code",
   "execution_count": null,
   "metadata": {},
   "outputs": [],
   "source": [
    "eigvals = np.linalg.eigvalsh(C+1e-12*np.eye(2*N))"
   ]
  },
  {
   "cell_type": "code",
   "execution_count": null,
   "metadata": {},
   "outputs": [],
   "source": [
    "plt.imshow(C, cmap='bwr')"
   ]
  },
  {
   "cell_type": "code",
   "execution_count": null,
   "metadata": {},
   "outputs": [],
   "source": [
    "idx = 98\n",
    "yA = curves[idx][0]\n",
    "yB = curves[idx][1]\n",
    "\n",
    "plt.scatter(t, yA-yA.mean(), label='A')\n",
    "plt.scatter(t, yB-yB.mean(), label='B')\n",
    "plt.scatter(t, A-A.mean(), label=f'{qso_id} image A')\n",
    "plt.legend()"
   ]
  },
  {
   "cell_type": "code",
   "execution_count": null,
   "metadata": {},
   "outputs": [],
   "source": [
    "spans = [curves[i][0].max() - curves[i][0].min() for i in range(len(curves))]"
   ]
  },
  {
   "cell_type": "code",
   "execution_count": null,
   "metadata": {},
   "outputs": [],
   "source": [
    "plt.plot(spans)\n",
    "plt.axhline(y=A.max() - A.min(), color='r')"
   ]
  },
  {
   "cell_type": "code",
   "execution_count": null,
   "metadata": {},
   "outputs": [],
   "source": [
    "N_MC = 300\n",
    "delta_max = 30\n",
    "delta_ensemble = np.random.random(size=N_MC) * delta_max\n",
    "\n",
    "hf = h5py.File(f'{qso_id}_random_delays_0_{delta_max}.h5', 'w')\n",
    "\n",
    "hf.create_dataset('t_domain', data=t, compression='gzip', compression_opts=9)\n",
    "\n",
    "t0 = time.time()\n",
    "\n",
    "for i, delay in enumerate(delta_ensemble):\n",
    "    N = len(t)\n",
    "    t_doubled = np.concatenate([t, t - delay])\n",
    "    tau_doubled = sf.compute_lags_matrix(t_doubled)\n",
    "    A2_mean = (A**2).mean()\n",
    "    C = A2_mean - power_law_sf(tau_doubled, slope, intercept)\n",
    "    errA_doubled = np.concatenate([errA, errA])\n",
    "    L = np.linalg.cholesky(C)\n",
    "    y = L @ np.random.normal(0, 1, size=2*N) + errA_doubled**2 * np.random.normal(0, 1, size=2*N)\n",
    "    \n",
    "    yA = y[:N]\n",
    "    yA_delayed = y[N:]\n",
    "    \n",
    "    yA = (yA-yA.mean())/yA.std()\n",
    "    yA_delayed = (yA_delayed-yA_delayed.mean())/yA_delayed.std()\n",
    "    \n",
    "    group = hf.create_group(f'realization_{i+1}')\n",
    "    \n",
    "    group.create_dataset('delay', data=np.array(delay))\n",
    "    group.create_dataset('y', data=yA, compression='gzip', compression_opts=9)\n",
    "    group.create_dataset('y_delayed', data=yA_delayed, compression='gzip', compression_opts=9)\n",
    "    \n",
    "tf = time.time()\n",
    "hf.close()\n",
    "print(f'Elapsed time: {tf-t0} s')"
   ]
  },
  {
   "cell_type": "code",
   "execution_count": null,
   "metadata": {},
   "outputs": [],
   "source": [
    "def generate_PRH_dataset(t, y, err_y, slope, intercept, delay):\n",
    "    N = len(t)\n",
    "    t_doubled = np.concatenate([t, t - delay])\n",
    "    tau_doubled = sf.compute_lags_matrix(t_doubled)\n",
    "    y2_mean = (y**2).mean()\n",
    "    C = y2_mean - power_law_sf(tau_doubled, slope, intercept)\n",
    "    err_y_doubled = np.concatenate([err_y, err_y])\n",
    "    L = np.linalg.cholesky(C)\n",
    "    y = L @ np.random.normal(0, 1, size=2*N) + err_y_doubled**2 * np.random.normal(0, 1, size=2*N)\n",
    "    \n",
    "    return y[:N], y[N:]"
   ]
  },
  {
   "cell_type": "code",
   "execution_count": null,
   "metadata": {},
   "outputs": [],
   "source": [
    "hf = h5py.File('RXJ1131_random_delays_0_30.h5', 'r')"
   ]
  },
  {
   "cell_type": "code",
   "execution_count": null,
   "metadata": {},
   "outputs": [],
   "source": [
    "t_dom = hf['t_domain'][()]"
   ]
  },
  {
   "cell_type": "code",
   "execution_count": null,
   "metadata": {},
   "outputs": [],
   "source": [
    "dataset_1 = hf['realization_1']\n",
    "dataset_5 = hf['realization_5']\n",
    "dataset_30 = hf['realization_30']"
   ]
  },
  {
   "cell_type": "code",
   "execution_count": null,
   "metadata": {},
   "outputs": [],
   "source": [
    "scaled_data = (A-A.mean())/A.std()"
   ]
  },
  {
   "cell_type": "code",
   "execution_count": null,
   "metadata": {},
   "outputs": [],
   "source": [
    "plt.scatter(t_dom, dataset_1['y'], label='realization 1', color='b')\n",
    "plt.scatter(t_dom, scaled_data, label=f'true data {qso_id} image A', color='black')\n",
    "plt.legend()\n",
    "plt.savefig('realiz1_comparison.pdf')"
   ]
  },
  {
   "cell_type": "code",
   "execution_count": null,
   "metadata": {},
   "outputs": [],
   "source": [
    "plt.scatter(t_dom, dataset_5['y'], label='realization 5', color='r')\n",
    "plt.scatter(t_dom, scaled_data, label=f'true data {qso_id} image A', color='black')\n",
    "plt.legend()\n",
    "plt.savefig('realiz5_comparison.pdf')"
   ]
  },
  {
   "cell_type": "code",
   "execution_count": null,
   "metadata": {},
   "outputs": [],
   "source": [
    "plt.scatter(t_dom, dataset_30['y'], label='realization 30', color='g')\n",
    "plt.scatter(t_dom, scaled_data, label=f'true data {qso_id} image A', color='black')\n",
    "plt.legend()\n",
    "plt.savefig('realiz30_comparison.pdf')"
   ]
  },
  {
   "cell_type": "code",
   "execution_count": null,
   "metadata": {},
   "outputs": [],
   "source": [
    "plt.scatter(t_dom, dataset_5['y'][()], color='b', label='MonteCarlo curve 1')\n",
    "plt.scatter(t_dom, dataset_5['y_delayed'][()], color='r', \n",
    "            label=f\"MonteCarlo curve 2: delayed by {dataset_5['delay'][()]:.2f} days\")\n",
    "plt.legend()\n",
    "plt.savefig('Montecarlo_y_vs_y_delayed.pdf')"
   ]
  },
  {
   "cell_type": "code",
   "execution_count": null,
   "metadata": {},
   "outputs": [],
   "source": [
    "L = np.linalg.cholesky(C)\n",
    "plt.imshow(np.log10(L), cmap='bwr')\n",
    "\n",
    "y_f = L @ (np.random.normal(0, 1, size=len(eigvals)))\n",
    "\n",
    "y_1 = y_f[:N]\n",
    "y_2 = y_f[N:]"
   ]
  },
  {
   "cell_type": "code",
   "execution_count": null,
   "metadata": {},
   "outputs": [],
   "source": [
    "plt.scatter(t, y_1 - y_1.mean(), label='Montecarlo A')\n",
    "plt.scatter(t, y_2 - y_2.mean(), label='Montecarlo B')\n",
    "plt.scatter(t, A - A.mean(), label='true data')\n",
    "plt.legend()"
   ]
  },
  {
   "cell_type": "code",
   "execution_count": null,
   "metadata": {},
   "outputs": [],
   "source": [
    "tau_sim, v_sim = sf.estimate_structure_func_from_data(t, y_1, errA)"
   ]
  },
  {
   "cell_type": "code",
   "execution_count": null,
   "metadata": {},
   "outputs": [],
   "source": [
    "plt.loglog(tau, v, label='data')\n",
    "plt.loglog(tau_sim, v_sim, label='Montecarlo')\n",
    "plt.loglog(tau_sim, 10**intercept * tau_sim**slope)\n",
    "plt.legend()"
   ]
  },
  {
   "cell_type": "code",
   "execution_count": null,
   "metadata": {},
   "outputs": [],
   "source": [
    "np.random.seed(1234)\n",
    "\n",
    "R = np.linalg.cholesky(C)\n",
    "\n",
    "y_new = R @ np.random.normal(0, 1 ,size=2*N)\n",
    "\n",
    "yA = y_new[:N]\n",
    "yB = y_new[N:]\n",
    "\n",
    "yA -= yA.mean()\n",
    "yB -= yB.mean()\n",
    "\n",
    "plt.scatter(t, yA, label='Montecarlo A')\n",
    "plt.scatter(t, yB, label='Montecarlo A shifted')\n",
    "plt.scatter(t, A-A.mean(), label='true A')\n",
    "plt.legend()"
   ]
  },
  {
   "cell_type": "code",
   "execution_count": null,
   "metadata": {},
   "outputs": [],
   "source": [
    "kernel = ConstantKernel(2, (1e-3, 1e2)) * Matern(length_scale=200.0, length_scale_bounds=(1, 300), nu=1.5)\n",
    "\n",
    "gp1 = rg.fit_GP_to_lightcurve(t, yA, errA, kernel)\n",
    "gp2 = rg.fit_GP_to_lightcurve(t, yB, errA, kernel)"
   ]
  },
  {
   "cell_type": "code",
   "execution_count": null,
   "metadata": {},
   "outputs": [],
   "source": [
    "gp_step = 2\n",
    "support = np.arange(t[0] - 5e1, t[-1] + 5e1, gp_step)\n",
    "gpA = rg.fit_GP_to_lightcurve(t, A, errA, kernel)\n",
    "ypred1, cov1 = gpA.predict(np.expand_dims(support, 1), return_cov=True)"
   ]
  },
  {
   "cell_type": "code",
   "execution_count": null,
   "metadata": {},
   "outputs": [],
   "source": [
    "plt.imshow(cov1, cmap='bwr')"
   ]
  },
  {
   "cell_type": "code",
   "execution_count": null,
   "metadata": {},
   "outputs": [],
   "source": [
    "R = np.linalg.cholesky(cov1)\n",
    "\n",
    "ynew = R @ np.random.normal(0, 1, size=R.shape[0])"
   ]
  },
  {
   "cell_type": "code",
   "execution_count": null,
   "metadata": {},
   "outputs": [],
   "source": [
    "eigvals, eigvecs = np.linalg.eigh(cov1)\n",
    "Z = eigvecs"
   ]
  },
  {
   "cell_type": "code",
   "execution_count": null,
   "metadata": {},
   "outputs": [],
   "source": [
    "ynew = Z @ (np.sqrt(eigvals) * np.random.normal(size=len(eigvals)))"
   ]
  },
  {
   "cell_type": "code",
   "execution_count": null,
   "metadata": {},
   "outputs": [],
   "source": [
    "plt.plot(ynew)"
   ]
  },
  {
   "cell_type": "code",
   "execution_count": null,
   "metadata": {},
   "outputs": [],
   "source": [
    "gp_step = 0.2\n",
    "support = np.arange(t[0] - 5e1, t[-1] + 5e1, gp_step)\n",
    "y_pred1, sigma1 = gp1.predict(np.expand_dims(support,1), return_std=True)\n",
    "y_pred2, sigma2 = gp2.predict(np.expand_dims(support,1), return_std=True)"
   ]
  },
  {
   "cell_type": "code",
   "execution_count": null,
   "metadata": {},
   "outputs": [],
   "source": [
    "plt.figure()\n",
    "plt.plot(t, yB, 'g.', markersize=3, label='MontecarloA')\n",
    "plt.plot(t, yA, 'b.', markersize=3, label='MontecarloB')\n",
    "plt.plot(support, y_pred1, 'b-', label='PredictionA')\n",
    "plt.plot(support, y_pred2, 'g-', label='PredictionB')\n",
    "plt.fill_between(support, y_pred1 - special.erfinv(0.95)*sigma1, y_pred1 + special.erfinv(0.95)*sigma1,\n",
    "         alpha=.5, fc='b', ec='None', label='95% confidence interval B')\n",
    "plt.fill_between(support, y_pred2 - special.erfinv(0.95)*sigma2, y_pred2 + special.erfinv(0.95)*sigma2,\n",
    "         alpha=.5, fc='g', ec='None', label='95% confidence interval A')\n",
    "plt.xlabel('$t$')\n",
    "plt.ylabel('$f(t)$')\n",
    "plt.legend()"
   ]
  },
  {
   "cell_type": "code",
   "execution_count": null,
   "metadata": {},
   "outputs": [],
   "source": [
    "delay = rg.time_delay_grid_search(y_pred1, y_pred2, sigma1, sigma2, gp_step,\n",
    "                                  dt_min=0, dt_max=100)\n",
    "print('Estimated time delay: %s days' % delay)"
   ]
  },
  {
   "cell_type": "code",
   "execution_count": null,
   "metadata": {},
   "outputs": [],
   "source": [
    "t0 = time.time()\n",
    "\n",
    "true_delays = np.arange(20, 30, 1)\n",
    "np.random.seed(1234)\n",
    "simulated_curves = {}\n",
    "estimated_delays = []\n",
    "for delay in true_delays:\n",
    "    print(delay)\n",
    "    t_doubled = np.concatenate([t, t-delay])\n",
    "    tau_doubled = sf.compute_lags_matrix(t_doubled)\n",
    "\n",
    "    y2_mean = (y**2).mean()\n",
    "    C = y2_mean - power_law_sf(tau_doubled, slope, intercept)\n",
    "    C += 1e-10*np.eye(C.shape[0])\n",
    "    R = np.linalg.cholesky(C)\n",
    "    \n",
    "    y_new = R @ np.random.normal(0, 1 ,size=2*N)\n",
    "    yA = y_new[:N]\n",
    "    yB = y_new[N:]\n",
    "    yA -= yA.mean()\n",
    "    yB -= yB.mean()\n",
    "    \"\"\"\n",
    "    \n",
    "    gp1 = rg.fit_GP_to_lightcurve(t, yA, err_y, kernel)\n",
    "    gp2 = rg.fit_GP_to_lightcurve(t, yB, err_y, kernel)\n",
    "    gp_step = 0.2\n",
    "    support = np.arange(t[0] - 5e1, t[-1] + 5e1, gp_step)\n",
    "    y_pred1, sigma1 = gp1.predict(np.expand_dims(support,1), return_std=True)\n",
    "    y_pred2, sigma2 = gp2.predict(np.expand_dims(support,1), return_std=True)\n",
    "    estimated_delay = rg.time_delay_grid_search(y_pred1, y_pred2, sigma1, sigma2, gp_step,\n",
    "                                                dt_min=0, dt_max=100)\n",
    "    estimated_delays.append(estimated_delay)\n",
    "    \"\"\"\n",
    "    \n",
    "    simulated_curves[delay] = [yA, yB]\n",
    "    \n",
    "\n",
    "estimated_delays = np.array(estimated_delays)\n",
    "tf = time.time()\n",
    "print('Elapsed time: %s' % (tf - t0))"
   ]
  },
  {
   "cell_type": "code",
   "execution_count": null,
   "metadata": {},
   "outputs": [],
   "source": []
  },
  {
   "cell_type": "code",
   "execution_count": null,
   "metadata": {},
   "outputs": [],
   "source": [
    "plt.scatter(true_delays, estimated_delays)"
   ]
  },
  {
   "cell_type": "code",
   "execution_count": null,
   "metadata": {},
   "outputs": [],
   "source": [
    "d = 20\n",
    "plt.scatter(t, simulated_curves[d][0], label='ref delay %s ' % d)\n",
    "plt.scatter(t, simulated_curves[d][1], label='shifted')\n",
    "plt.scatter(t, y-y.mean(), label='HE0435')\n",
    "plt.legend()"
   ]
  },
  {
   "cell_type": "code",
   "execution_count": null,
   "metadata": {},
   "outputs": [],
   "source": [
    "A = np.array([[3,2],[2,4]])"
   ]
  },
  {
   "cell_type": "code",
   "execution_count": null,
   "metadata": {},
   "outputs": [],
   "source": [
    "eigvals, eigvecs = np.linalg.eigh(A)"
   ]
  },
  {
   "cell_type": "code",
   "execution_count": null,
   "metadata": {},
   "outputs": [],
   "source": [
    "Z = eigvecs.T\n",
    "sqrtLambda = np.diag(np.sqrt(eigvals))"
   ]
  },
  {
   "cell_type": "code",
   "execution_count": null,
   "metadata": {},
   "outputs": [],
   "source": [
    "np.linalg.qr(sqrtLambda @ Z)"
   ]
  },
  {
   "cell_type": "code",
   "execution_count": null,
   "metadata": {},
   "outputs": [],
   "source": [
    "np.linalg.cholesky(A)"
   ]
  },
  {
   "cell_type": "code",
   "execution_count": null,
   "metadata": {},
   "outputs": [],
   "source": [
    "Z.T @ np.diag(eigvals) @ Z"
   ]
  },
  {
   "cell_type": "code",
   "execution_count": null,
   "metadata": {},
   "outputs": [],
   "source": []
  }
 ],
 "metadata": {
  "kernelspec": {
   "display_name": "Python 3",
   "language": "python",
   "name": "python3"
  },
  "language_info": {
   "codemirror_mode": {
    "name": "ipython",
    "version": 3
   },
   "file_extension": ".py",
   "mimetype": "text/x-python",
   "name": "python",
   "nbconvert_exporter": "python",
   "pygments_lexer": "ipython3",
   "version": "3.7.6"
  }
 },
 "nbformat": 4,
 "nbformat_minor": 4
}
