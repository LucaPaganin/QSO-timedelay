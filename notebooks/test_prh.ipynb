{
 "cells": [
  {
   "cell_type": "code",
   "execution_count": null,
   "metadata": {},
   "outputs": [],
   "source": [
    "import numpy as np\n",
    "import pandas as pd\n",
    "import itertools\n",
    "import matplotlib.pyplot as plt\n",
    "from scipy import stats\n",
    "from scipy import special\n",
    "from scipy import integrate\n",
    "from scipy import interpolate\n",
    "import time\n",
    "from pathlib import Path\n",
    "import os\n",
    "import random\n",
    "from sklearn.gaussian_process import GaussianProcessRegressor\n",
    "from sklearn.gaussian_process.kernels import RBF, Matern, ConstantKernel\n",
    "\n",
    "plt.rcParams['figure.figsize'] = (10, 6)\n",
    "plt.rcParams['figure.dpi'] = 120\n",
    "plt.rcParams['text.usetex'] = True\n",
    "\n",
    "import sys\n",
    "\n",
    "sys.path.insert(0, '..')\n",
    "from our_qso_code import structure_func as sf\n",
    "from our_qso_code import regression as rg"
   ]
  },
  {
   "cell_type": "code",
   "execution_count": null,
   "metadata": {},
   "outputs": [],
   "source": [
    "data = pd.read_table('../data/cosmograil_data/HE0435_Bonvin2016.rdb_.txt')\n",
    "\n",
    "t = data['mhjd'].to_numpy(dtype=np.float64)\n",
    "y = data['mag_A'].to_numpy(dtype=np.float64)\n",
    "err_y = data['magerr_A'].to_numpy(dtype=np.float64)\n",
    "\n",
    "N = len(t)\n",
    "\n",
    "plt.scatter(t, y)"
   ]
  },
  {
   "cell_type": "code",
   "execution_count": null,
   "metadata": {},
   "outputs": [],
   "source": [
    "tau, v = sf.estimate_structure_func_from_data(t, y, err_y)"
   ]
  },
  {
   "cell_type": "code",
   "execution_count": null,
   "metadata": {},
   "outputs": [],
   "source": [
    "def power_law_sf(tau, slope, intercept):\n",
    "    return 10**intercept * tau**slope\n",
    "\n",
    "def fit_sf(tau, v, cut_off):\n",
    "    pars = stats.linregress(np.log10(tau[:cut_off]), np.log10(v[:cut_off]))\n",
    "    slope = pars.slope\n",
    "    intercept = pars.intercept\n",
    "    return slope, intercept\n",
    "\n",
    "def spline_sf(tau, v):\n",
    "    spline = interpolate.UnivariateSpline(tau, v, s=1e-6, k=5)\n",
    "    return spline"
   ]
  },
  {
   "cell_type": "code",
   "execution_count": null,
   "metadata": {},
   "outputs": [],
   "source": [
    "cut_off = int(0.65*len(tau))\n",
    "slope, intercept = fit_sf(tau, v, cut_off)\n",
    "v_spline = spline_sf(tau, v)\n",
    "\n",
    "plt.loglog(tau[:cut_off], v[:cut_off], linestyle='None', marker='o')\n",
    "plt.loglog(tau[:cut_off], power_law_sf(tau[:cut_off], slope, intercept))\n",
    "plt.loglog(tau[:cut_off], v_spline(tau[:cut_off]))\n",
    "print('Max lag considered: %s days' % tau[cut_off-1])"
   ]
  },
  {
   "cell_type": "code",
   "execution_count": null,
   "metadata": {},
   "outputs": [],
   "source": [
    "delta = 20\n",
    "t_doubled = np.concatenate([t, t-delta])\n",
    "tau_doubled = sf.compute_lags_matrix(t_doubled)\n",
    "\n",
    "y2_mean = (y**2).mean()\n",
    "C = y2_mean - power_law_sf(tau_doubled, slope, intercept)\n",
    "#C = y2_mean - v_spline(tau_doubled)\n",
    "print('detC = %s' % np.linalg.det(C))\n",
    "plt.imshow(C, cmap='bwr')\n",
    "plt.colorbar()"
   ]
  },
  {
   "cell_type": "code",
   "execution_count": null,
   "metadata": {},
   "outputs": [],
   "source": [
    "np.random.seed(1234)\n",
    "\n",
    "R = np.linalg.cholesky(C)\n",
    "\n",
    "y_new = R @ np.random.normal(0, 1 ,size=2*N)\n",
    "\n",
    "yA = y_new[:N]\n",
    "yB = y_new[N:]\n",
    "\n",
    "yA -= yA.mean()\n",
    "yB -= yB.mean()\n",
    "\n",
    "plt.scatter(t, yA, label='Montecarlo A')\n",
    "plt.scatter(t, yB, label='Montecarlo A shifted')\n",
    "plt.scatter(t, y-y.mean(), label='true A')\n",
    "plt.legend()"
   ]
  },
  {
   "cell_type": "code",
   "execution_count": null,
   "metadata": {},
   "outputs": [],
   "source": [
    "kernel = ConstantKernel(2, (1e-3, 1e2)) * Matern(length_scale=200.0, length_scale_bounds=(1, 300), nu=1.5)"
   ]
  },
  {
   "cell_type": "code",
   "execution_count": null,
   "metadata": {},
   "outputs": [],
   "source": [
    "gp1 = rg.fit_GP_to_lightcurve(t, yA, err_y, kernel)\n",
    "gp2 = rg.fit_GP_to_lightcurve(t, yB, err_y, kernel)"
   ]
  },
  {
   "cell_type": "code",
   "execution_count": null,
   "metadata": {},
   "outputs": [],
   "source": [
    "gp_step = 0.2\n",
    "support = np.arange(t[0] - 5e1, t[-1] + 5e1, gp_step)\n",
    "y_pred1, sigma1 = gp1.predict(np.expand_dims(support,1), return_std=True)\n",
    "y_pred2, sigma2 = gp2.predict(np.expand_dims(support,1), return_std=True)"
   ]
  },
  {
   "cell_type": "code",
   "execution_count": null,
   "metadata": {},
   "outputs": [],
   "source": [
    "plt.figure()\n",
    "plt.plot(t, yB, 'g.', markersize=3, label='MontecarloA')\n",
    "plt.plot(t, yA, 'b.', markersize=3, label='MontecarloB')\n",
    "plt.plot(support, y_pred1, 'b-', label='PredictionA')\n",
    "plt.plot(support, y_pred2, 'g-', label='PredictionB')\n",
    "plt.fill_between(support, y_pred1 - special.erfinv(0.95)*sigma1, y_pred1 + special.erfinv(0.95)*sigma1,\n",
    "         alpha=.5, fc='b', ec='None', label='95% confidence interval B')\n",
    "plt.fill_between(support, y_pred2 - special.erfinv(0.95)*sigma2, y_pred2 + special.erfinv(0.95)*sigma2,\n",
    "         alpha=.5, fc='g', ec='None', label='95% confidence interval A')\n",
    "plt.xlabel('$t$')\n",
    "plt.ylabel('$f(t)$')\n",
    "plt.legend()"
   ]
  },
  {
   "cell_type": "code",
   "execution_count": null,
   "metadata": {},
   "outputs": [],
   "source": [
    "delay = rg.time_delay_grid_search(y_pred1, y_pred2, sigma1, sigma2, gp_step,\n",
    "                                  dt_min=0, dt_max=100)\n",
    "print('Estimated time delay: %s days' % delay)"
   ]
  },
  {
   "cell_type": "code",
   "execution_count": null,
   "metadata": {},
   "outputs": [],
   "source": [
    "t0 = time.time()\n",
    "\n",
    "true_delays = np.arange(10, 60, 1)\n",
    "np.random.seed(1234)\n",
    "simulated_curves = {}\n",
    "for delay in true_delays:\n",
    "    print(delay)\n",
    "    t_doubled = np.concatenate([t, t-delay])\n",
    "    tau_doubled = sf.compute_lags_matrix(t_doubled)\n",
    "\n",
    "    y2_mean = (y**2).mean()\n",
    "    C = y2_mean - power_law_sf(tau_doubled, slope, intercept)\n",
    "    C += 1e-10*np.eye(C.shape[0])\n",
    "    R = np.linalg.cholesky(C)\n",
    "    \n",
    "    y_new = R @ np.random.normal(0, 1 ,size=2*N)\n",
    "    yA = y_new[:N]\n",
    "    yB = y_new[N:]\n",
    "    yA -= yA.mean()\n",
    "    yB -= yB.mean()\n",
    "    \"\"\"\n",
    "    gp1 = rg.fit_GP_to_lightcurve(t, yA, err_y, kernel)\n",
    "    gp2 = rg.fit_GP_to_lightcurve(t, yB, err_y, kernel)\n",
    "    gp_step = 0.2\n",
    "    support = np.arange(t[0] - 5e1, t[-1] + 5e1, gp_step)\n",
    "    y_pred1, sigma1 = gp1.predict(np.expand_dims(support,1), return_std=True)\n",
    "    y_pred2, sigma2 = gp2.predict(np.expand_dims(support,1), return_std=True)\n",
    "    estimated_delay = rg.time_delay_grid_search(y_pred1, y_pred2, sigma1, sigma2, gp_step,\n",
    "                                                dt_min=0, dt_max=100)\n",
    "    estimated_delays.append(estimated_delay)\n",
    "    \"\"\"\n",
    "    simulated_curves[delay] = [yA, yB]\n",
    "    \n",
    "\n",
    "estimated_delays = np.array(estimated_delays)\n",
    "tf = time.time()\n",
    "print('Elapsed time: %s' % (tf - t0))"
   ]
  },
  {
   "cell_type": "code",
   "execution_count": null,
   "metadata": {},
   "outputs": [],
   "source": [
    "d = 20\n",
    "plt.scatter(t, simulated_curves[d][0], label='ref delay %s ' % d)\n",
    "plt.scatter(t, simulated_curves[d][1], label='shifted')\n",
    "plt.scatter(t, y-y.mean(), label='HE0435')\n",
    "plt.legend()"
   ]
  },
  {
   "cell_type": "code",
   "execution_count": null,
   "metadata": {},
   "outputs": [],
   "source": []
  }
 ],
 "metadata": {
  "kernelspec": {
   "display_name": "Python 3",
   "language": "python",
   "name": "python3"
  },
  "language_info": {
   "codemirror_mode": {
    "name": "ipython",
    "version": 3
   },
   "file_extension": ".py",
   "mimetype": "text/x-python",
   "name": "python",
   "nbconvert_exporter": "python",
   "pygments_lexer": "ipython3",
   "version": "3.7.6"
  }
 },
 "nbformat": 4,
 "nbformat_minor": 4
}
