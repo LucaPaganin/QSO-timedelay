{
 "cells": [
  {
   "cell_type": "code",
   "execution_count": null,
   "metadata": {},
   "outputs": [],
   "source": [
    "import numpy as np\n",
    "import pandas as pd\n",
    "import itertools\n",
    "import h5py\n",
    "import matplotlib.pyplot as plt\n",
    "from scipy import stats\n",
    "from scipy import special\n",
    "from scipy import integrate\n",
    "from scipy import interpolate\n",
    "from scipy import linalg\n",
    "from scipy import signal\n",
    "from scipy.optimize import curve_fit\n",
    "import time\n",
    "from pathlib import Path\n",
    "import os\n",
    "import random\n",
    "from sklearn.gaussian_process import GaussianProcessRegressor\n",
    "from sklearn.gaussian_process.kernels import RBF, Matern, ConstantKernel\n",
    "\n",
    "plt.rcParams['figure.figsize'] = (8, 6)\n",
    "plt.rcParams['figure.dpi'] = 120\n",
    "plt.rcParams['text.usetex'] = True\n",
    "\n",
    "import sys\n",
    "import mpld3\n",
    "\n",
    "#mpld3.enable_notebook()\n",
    "\n",
    "sys.path.insert(0, '..')\n",
    "from modules import structure_func as sf\n",
    "from modules import regression as rg"
   ]
  },
  {
   "cell_type": "code",
   "execution_count": null,
   "metadata": {},
   "outputs": [],
   "source": [
    "file_path = Path('../data/cosmograil_data/HE0435_Bonvin2016.rdb_.txt')\n",
    "\n",
    "qso_id = file_path.name.split('_')[0]\n",
    "data = pd.read_table(file_path)\n",
    "\n",
    "t = data['mhjd'].to_numpy(dtype=np.float64)\n",
    "A = data['mag_A'].to_numpy(dtype=np.float64)\n",
    "errA = data['magerr_A'].to_numpy(dtype=np.float64)\n",
    "\n",
    "N = len(t)"
   ]
  },
  {
   "cell_type": "code",
   "execution_count": null,
   "metadata": {},
   "outputs": [],
   "source": [
    "smoothing_val = 1e-1\n",
    "\n",
    "qso_spline = interpolate.UnivariateSpline(t, A, s=smoothing_val, k=3)\n",
    "abs_diff = np.abs((qso_spline(t)-A)/A.mean())\n",
    "frac_err_max = abs_diff.max()\n",
    "print(frac_err_max)\n",
    "\n",
    "new_t = np.arange(t[0], t[-1], step=0.2)\n",
    "\n",
    "plt.scatter(t, A)\n",
    "plt.plot(new_t, qso_spline(new_t), color='r')"
   ]
  },
  {
   "cell_type": "code",
   "execution_count": null,
   "metadata": {},
   "outputs": [],
   "source": [
    "mean_square = integrate.simps(qso_spline(new_t)**2, new_t)/(t[-1]-t[0])\n",
    "squared_mean = (integrate.simps(qso_spline(new_t), new_t)/(t[-1]-t[0]))**2\n",
    "\n",
    "print(mean_square)\n",
    "print(squared_mean)"
   ]
  },
  {
   "cell_type": "code",
   "execution_count": null,
   "metadata": {},
   "outputs": [],
   "source": [
    "tau, v = sf.estimate_structure_func_from_data(t, A, errA)"
   ]
  },
  {
   "cell_type": "code",
   "execution_count": null,
   "metadata": {},
   "outputs": [],
   "source": [
    "def power_law_sf(tau, slope, intercept):\n",
    "    return 10**intercept * tau**slope\n",
    "\n",
    "def exp_sf(tau, V0, dt0):\n",
    "    return V0*(1-np.exp(-tau/dt0))\n",
    "\n",
    "def fit_sf(tau, v, cut_off):\n",
    "    pars = stats.linregress(np.log10(tau[:cut_off]), np.log10(v[:cut_off]))\n",
    "    slope = pars.slope\n",
    "    intercept = pars.intercept\n",
    "    return slope, intercept\n",
    "\n",
    "def spline_sf(tau, v):\n",
    "    spline = interpolate.UnivariateSpline(tau, v, s=1e-6, k=3)\n",
    "    return spline"
   ]
  },
  {
   "cell_type": "code",
   "execution_count": null,
   "metadata": {},
   "outputs": [],
   "source": [
    "cut_off = int(0.75*len(tau))\n",
    "slope, intercept = fit_sf(tau, v, cut_off)\n",
    "popt, pcov = curve_fit(exp_sf, tau[:cut_off], v[:cut_off])\n",
    "\n",
    "plt.loglog(tau, v, linestyle='None', marker='o', color='g', label='SF')\n",
    "plt.loglog(tau[:cut_off], v[:cut_off], linestyle='None', marker='o', color='b', label='SF with cutoff')\n",
    "plt.loglog(tau[:cut_off], power_law_sf(tau[:cut_off], slope, intercept), color='r', \n",
    "           label=f'power law: slope {slope:.3f} intercept {intercept:.3f}')\n",
    "plt.loglog(tau, exp_sf(tau, *popt), color='orange', \n",
    "           label=f'exponential: V0 {popt[0]:.3f} dt0 {popt[1]:.3f}')\n",
    "# v_spline = spline_sf(tau, v)\n",
    "# plt.loglog(tau, v_spline(tau))\n",
    "plt.legend(fontsize=12)\n",
    "print('Max lag considered: %s days ' % tau[cut_off-1])\n",
    "print('Max existing lag: %s days ' % tau.max())"
   ]
  },
  {
   "cell_type": "code",
   "execution_count": null,
   "metadata": {},
   "outputs": [],
   "source": [
    "delay=50\n",
    "\n",
    "t_doubled = np.concatenate([t, t - delay])\n",
    "tau_doubled = sf.compute_lags_matrix(t_doubled)\n",
    "V_matrix = power_law_sf(tau_doubled, slope, intercept)\n",
    "s2 = mean_square\n",
    "C  = s2 - V_matrix\n",
    "C += np.eye(2*N) * (np.concatenate([errA, errA]))**2\n",
    "L  = np.linalg.cholesky(C)"
   ]
  },
  {
   "cell_type": "code",
   "execution_count": null,
   "metadata": {},
   "outputs": [],
   "source": [
    "r = np.random.normal(0, 1, size=2*N)\n",
    "y = L @ r\n",
    "\n",
    "yA = y[:N]\n",
    "yB = y[N:]\n",
    "\n",
    "plt.scatter(t, yA)\n",
    "plt.scatter(t, yB)"
   ]
  },
  {
   "cell_type": "code",
   "execution_count": null,
   "metadata": {},
   "outputs": [],
   "source": [
    "idx=9\n",
    "plt.scatter(t, curves[idx][0] - curves[idx][0].mean(), label='realization %s' % idx, color='r')\n",
    "plt.scatter(t, A-A.mean(), color='black')"
   ]
  },
  {
   "cell_type": "code",
   "execution_count": null,
   "metadata": {},
   "outputs": [],
   "source": [
    "sim_sfs = []\n",
    "\n",
    "for idx in range(10):\n",
    "    _, v_sim = sf.estimate_structure_func_from_data(t, curves[idx][0], errA)\n",
    "    sim_sfs.append(v_sim)"
   ]
  },
  {
   "cell_type": "code",
   "execution_count": null,
   "metadata": {},
   "outputs": [],
   "source": [
    "plt.loglog(tau, sim_sfs[idx], linestyle='None', marker='o', color='r')\n",
    "plt.loglog(tau, v, linestyle='None', marker='o', color='black')"
   ]
  },
  {
   "cell_type": "code",
   "execution_count": null,
   "metadata": {},
   "outputs": [],
   "source": [
    "delays = np.arange(1, 100, 1)\n",
    "\n",
    "curves = []\n",
    "\n",
    "for delay in delays:\n",
    "    N = len(t)\n",
    "    t_doubled = np.concatenate([t, t - delay])\n",
    "    tau_doubled = sf.compute_lags_matrix(t_doubled)\n",
    "    A2_mean = (A**2).mean()\n",
    "    C = A2_mean - exp_sf(tau_doubled, *popt)\n",
    "    # C = A2_mean - power_law_sf(tau_doubled, slope, intercept)\n",
    "    # C += 1e-10 * np.eye(2*N)\n",
    "    errA_doubled = np.concatenate([errA, errA])\n",
    "    L = np.linalg.cholesky(C)\n",
    "    y = L @ np.random.normal(0, 1, size=2*N) + errA_doubled**2 * np.random.normal(0, 1, size=2*N)\n",
    "    curves.append([y[:N], y[N:]])\n",
    "\"\"\"\n",
    "L = np.linalg.cholesky(C)\n",
    "y = L @ np.random.normal(0, 1, size=2*N) + errA_doubled**2 * np.random.normal(0, 1, size=2*N)\n",
    "\"\"\""
   ]
  },
  {
   "cell_type": "code",
   "execution_count": null,
   "metadata": {},
   "outputs": [],
   "source": []
  },
  {
   "cell_type": "code",
   "execution_count": null,
   "metadata": {},
   "outputs": [],
   "source": []
  }
 ],
 "metadata": {
  "kernelspec": {
   "display_name": "Python 3",
   "language": "python",
   "name": "python3"
  },
  "language_info": {
   "codemirror_mode": {
    "name": "ipython",
    "version": 3
   },
   "file_extension": ".py",
   "mimetype": "text/x-python",
   "name": "python",
   "nbconvert_exporter": "python",
   "pygments_lexer": "ipython3",
   "version": "3.7.6"
  }
 },
 "nbformat": 4,
 "nbformat_minor": 4
}
