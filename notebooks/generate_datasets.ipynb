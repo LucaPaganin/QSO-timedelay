{
 "cells": [
  {
   "cell_type": "code",
   "execution_count": null,
   "metadata": {},
   "outputs": [],
   "source": [
    "import numpy as np\n",
    "import pandas as pd\n",
    "import importlib\n",
    "import matplotlib.pyplot as plt\n",
    "from pathlib import Path\n",
    "import os\n",
    "import string\n",
    "import random\n",
    "\n",
    "import sys\n",
    "\n",
    "sys.path.insert(0, '..')"
   ]
  },
  {
   "cell_type": "code",
   "execution_count": null,
   "metadata": {},
   "outputs": [],
   "source": [
    "from our_qso_code import data_generator as dg\n",
    "\n",
    "importlib.reload(dg)\n",
    "\n",
    "\n",
    "tmax = 4000\n",
    "delay = 100\n",
    "n_samples = 100\n",
    "relative_error = 0.01\n",
    "n_gaps = 5\n",
    "gap_size = 0\n",
    "image_ratio = 1\n",
    "seed = 0"
   ]
  },
  {
   "cell_type": "code",
   "execution_count": null,
   "metadata": {},
   "outputs": [],
   "source": [
    "plt.rcParams['figure.figsize'] = (15.0, 10.0)\n",
    "plt.rcParams['text.usetex'] = True\n",
    "\n",
    "datagen = dg.DataGenerator(tmax=tmax, \n",
    "                           delta=delta, \n",
    "                           samples_per_delta=samples_per_delta, \n",
    "                           image_ratio=image_ratio, \n",
    "                           n_gaps=n_gaps, \n",
    "                           gap_size=gap_size, \n",
    "                           noise_level=noise_level,\n",
    "                           seed=seed)"
   ]
  },
  {
   "cell_type": "code",
   "execution_count": null,
   "metadata": {},
   "outputs": [],
   "source": [
    "means, sigmas, heights = datagen.generate_gaussian_signal_parameters()\n",
    "#heights = np.ones(means.shape)\n",
    "t_domain = datagen.generate_noisy_time_domain()\n",
    "t_supersampled = datagen.get_supersampled_timedomain()\n",
    "\n",
    "dataset = datagen.generate_single_realization_dataset(means=means, \n",
    "                                                      sigmas=sigmas, \n",
    "                                                      heights=heights, \n",
    "                                                      noise_level=noise_level, \n",
    "                                                      gap_size=gap_size)\n",
    "\n",
    "#offset = (dataset[\"A\"].max()-dataset[\"A\"].min())/2\n",
    "offset = 0\n",
    "fig, ax = plt.subplots()\n",
    "\n",
    "ax.errorbar(dataset[\"time\"], dataset[\"A\"]+offset, yerr=dataset[\"sigmaA\"], label=\"A\",\n",
    "            color=\"blue\", linestyle=\"None\", marker='o', capsize=5, markersize=5)\n",
    "ax.errorbar(dataset[\"time\"], dataset[\"B\"], yerr=dataset[\"sigmaB\"], label=\"B\",\n",
    "            color=\"red\", linestyle=\"None\", marker='o', capsize=5, markersize=5)\n",
    "ax.plot(t_supersampled, datagen.get_underlying_signal(t_supersampled, image=\"A\") + offset, \n",
    "        color=\"blue\", linestyle=\"dashed\")\n",
    "ax.plot(t_supersampled, datagen.get_underlying_signal(t_supersampled, image=\"B\"), \n",
    "        color=\"red\", linestyle=\"dashed\")\n",
    "ax.set_title(f\"DS-500, noise = {noise_level}, n_gaps = {n_gaps}, gap_size = {gap_size}\")\n",
    "ax.legend(fontsize=15)"
   ]
  }
 ],
 "metadata": {
  "kernelspec": {
   "display_name": "PyCharm (QSO-timedelay)",
   "language": "python",
   "name": "pycharm-7615272e"
  },
  "language_info": {
   "codemirror_mode": {
    "name": "ipython",
    "version": 3
   },
   "file_extension": ".py",
   "mimetype": "text/x-python",
   "name": "python",
   "nbconvert_exporter": "python",
   "pygments_lexer": "ipython3",
   "version": "3.7.7"
  }
 },
 "nbformat": 4,
 "nbformat_minor": 4
}
