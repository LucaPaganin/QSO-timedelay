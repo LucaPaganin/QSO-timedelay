{
 "cells": [
  {
   "cell_type": "code",
   "execution_count": null,
   "metadata": {},
   "outputs": [],
   "source": [
    "import numpy as np\n",
    "import pandas as pd\n",
    "import importlib\n",
    "import matplotlib.pyplot as plt\n",
    "from pathlib import Path\n",
    "import os\n",
    "import string\n",
    "import random\n",
    "from sklearn.gaussian_process.kernels import RBF, Matern, ConstantKernel\n",
    "from scipy import special\n",
    "import sys\n",
    "\n",
    "sys.path.insert(0, '..')"
   ]
  },
  {
   "cell_type": "code",
   "execution_count": null,
   "metadata": {},
   "outputs": [],
   "source": [
    "from modules import data_generator as dg\n",
    "from modules import regression as rg\n",
    "\n",
    "importlib.reload(dg)\n",
    "\n",
    "\n",
    "t_max = 2500\n",
    "delay = 75\n",
    "sampling_rate = 0.08\n",
    "relative_error = 0.025\n",
    "n_gaps = 5\n",
    "gap_size = 10\n",
    "image_ratio = 1\n",
    "seed = 0"
   ]
  },
  {
   "cell_type": "code",
   "execution_count": null,
   "metadata": {},
   "outputs": [],
   "source": [
    "plt.rcParams['figure.figsize'] = (10.0, 8.0)\n",
    "plt.rcParams['text.usetex'] = True\n",
    "\n",
    "datagen = dg.DataGenerator(t_max=t_max, \n",
    "                           delay=delay, \n",
    "                           sampling_rate=sampling_rate, \n",
    "                           image_ratio=image_ratio, \n",
    "                           n_gaps=n_gaps, \n",
    "                           gap_size=gap_size,\n",
    "                           relative_err=relative_error,\n",
    "                           seed=seed)"
   ]
  },
  {
   "cell_type": "code",
   "execution_count": null,
   "metadata": {},
   "outputs": [],
   "source": [
    "means, sigmas, heights = datagen.generate_gaussian_signal_parameters()\n",
    "#heights = np.ones(means.shape)\n",
    "t_domain = datagen.generate_noisy_time_domain()\n",
    "t_supersampled = datagen.get_supersampled_timedomain()\n",
    "\n",
    "dataset = datagen.generate_single_realization_dataset(means=means, \n",
    "                                                      sigmas=sigmas, \n",
    "                                                      heights=heights, \n",
    "                                                      gap_size=gap_size)\n",
    "\n",
    "#offset = (dataset[\"A\"].max()-dataset[\"A\"].min())/2\n",
    "offset = 0\n",
    "fig, ax = plt.subplots()\n",
    "\n",
    "ax.errorbar(dataset[\"time\"], dataset[\"A\"]+offset, yerr=dataset[\"sigmaA\"], label=\"A\",\n",
    "            color=\"blue\", linestyle=\"None\", marker='o', capsize=5, markersize=5)\n",
    "ax.errorbar(dataset[\"time\"], dataset[\"B\"], yerr=dataset[\"sigmaB\"], label=\"B\",\n",
    "            color=\"red\", linestyle=\"None\", marker='o', capsize=5, markersize=5)\n",
    "ax.plot(t_supersampled, datagen.get_underlying_signal(t_supersampled, image=\"A\") + offset, \n",
    "        color=\"blue\", linestyle=\"dashed\")\n",
    "ax.plot(t_supersampled, datagen.get_underlying_signal(t_supersampled, image=\"B\"), \n",
    "        color=\"red\", linestyle=\"dashed\")\n",
    "ax.legend(fontsize=15)"
   ]
  },
  {
   "cell_type": "code",
   "execution_count": null,
   "metadata": {},
   "outputs": [],
   "source": [
    "t = dataset['time'].values\n",
    "yA = dataset['A'].values\n",
    "yB = dataset['B'].values\n",
    "errA = dataset['sigmaA']\n",
    "errB = dataset['sigmaB']\n",
    "\n",
    "yA = (yA - yA.mean()) / yA.std()\n",
    "yB = (yB - yB.mean()) / yB.std()\n",
    "\n",
    "\n",
    "kernel = ConstantKernel(2, (1e-3, 1e2)) * Matern(length_scale=200.0, length_scale_bounds=(1, 300), nu=1.5)\n",
    "\n",
    "gp1 = rg.fit_GP_to_lightcurve(t, yA, errA, kernel)\n",
    "gp2 = rg.fit_GP_to_lightcurve(t, yB, errB, kernel)"
   ]
  },
  {
   "cell_type": "code",
   "execution_count": null,
   "metadata": {},
   "outputs": [],
   "source": [
    "gp_step = 0.2\n",
    "support = np.arange(t[0] - 5e1, t[-1] + 5e1, gp_step)\n",
    "y_pred1, sigma1 = gp1.predict(np.expand_dims(support,1), return_std=True)\n",
    "y_pred2, sigma2 = gp2.predict(np.expand_dims(support,1), return_std=True)"
   ]
  },
  {
   "cell_type": "code",
   "execution_count": null,
   "metadata": {},
   "outputs": [],
   "source": [
    "\n",
    "plt.figure()\n",
    "plt.plot(t, yB, 'g.', markersize=3, label='MontecarloA')\n",
    "plt.plot(t, yA, 'b.', markersize=3, label='MontecarloB')\n",
    "plt.plot(support, y_pred1, 'b-', label='PredictionA')\n",
    "plt.plot(support, y_pred2, 'g-', label='PredictionB')\n",
    "plt.fill_between(support, y_pred1 - special.erfinv(0.95)*sigma1, y_pred1 + special.erfinv(0.95)*sigma1,\n",
    "         alpha=.5, facecolor='b', label='95% confidence interval B')\n",
    "plt.fill_between(support, y_pred2 - special.erfinv(0.95)*sigma2, y_pred2 + special.erfinv(0.95)*sigma2,\n",
    "         alpha=.5, facecolor='g', label='95% confidence interval A')\n",
    "plt.xlabel('$t$')\n",
    "plt.ylabel('$f(t)$')\n",
    "plt.legend()"
   ]
  },
  {
   "cell_type": "code",
   "execution_count": null,
   "metadata": {},
   "outputs": [],
   "source": [
    "delay = rg.time_delay_grid_search(y_pred1, y_pred2, sigma1, sigma2, gp_step,\n",
    "                                  dt_min=0, dt_max=200)\n",
    "print('Estimated time delay: %s days' % delay)"
   ]
  },
  {
   "cell_type": "code",
   "execution_count": null,
   "metadata": {},
   "outputs": [],
   "source": [
    "def numeric_derivative(f: np.ndarray, step: float) -> np.ndarray:\n",
    "    return (f[1:] - f[:-1]) / step\n",
    "\n",
    "\n",
    "def WAV(f, sigma, step):\n",
    "    f_prime = numeric_derivative(f, step)\n",
    "    weights = 2 / (sigma[:-1] + sigma[1:])\n",
    "    WAV = np.dot(np.abs(f_prime), weights) / weights.sum()\n",
    "    return WAV\n"
   ]
  },
  {
   "cell_type": "code",
   "execution_count": null,
   "metadata": {},
   "outputs": [],
   "source": [
    "dt_min = 0\n",
    "dt_max = 200\n",
    "\n",
    "shift = np.arange(int(dt_min/gp_step), int(dt_max/gp_step), 1)\n",
    "win = len(shift)\n",
    "WAV_values = []\n",
    "for i in shift:\n",
    "    diff = y_pred1[win:-win] - y_pred2[win + i:-win + i]\n",
    "    sigma_diff = sigma1[win:-win] + sigma2[win + i:-win + i]\n",
    "    WAV_values.append(WAV(diff, sigma_diff, gp_step))"
   ]
  },
  {
   "cell_type": "code",
   "execution_count": null,
   "metadata": {},
   "outputs": [],
   "source": [
    "plt.plot(WAV_values)"
   ]
  },
  {
   "cell_type": "code",
   "execution_count": null,
   "metadata": {},
   "outputs": [],
   "source": []
  }
 ],
 "metadata": {
  "kernelspec": {
   "display_name": "PyCharm (QSO-timedelay)",
   "language": "python",
   "name": "pycharm-7615272e"
  },
  "language_info": {
   "codemirror_mode": {
    "name": "ipython",
    "version": 3
   },
   "file_extension": ".py",
   "mimetype": "text/x-python",
   "name": "python",
   "nbconvert_exporter": "python",
   "pygments_lexer": "ipython3",
   "version": "3.7.7"
  }
 },
 "nbformat": 4,
 "nbformat_minor": 4
}
