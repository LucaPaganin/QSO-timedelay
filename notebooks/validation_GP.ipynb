{
 "cells": [
  {
   "cell_type": "code",
   "execution_count": null,
   "metadata": {},
   "outputs": [],
   "source": [
    "import re\n",
    "from pathlib import Path\n",
    "import matplotlib.pyplot as plt\n",
    "import numpy as np\n",
    "import pandas as pd\n",
    "from astropy.stats import sigma_clip\n",
    "import mpld3\n",
    "\n",
    "# mpld3.enable_notebook()\n",
    "\n",
    "plt.rcParams['figure.figsize'] = (12, 9)\n",
    "plt.rcParams['figure.dpi'] = 120\n",
    "plt.rcParams['text.usetex'] = True"
   ]
  },
  {
   "cell_type": "code",
   "execution_count": null,
   "metadata": {},
   "outputs": [],
   "source": [
    "df = pd.read_table('../aux/results.txt', delim_whitespace=True)"
   ]
  },
  {
   "cell_type": "code",
   "execution_count": null,
   "metadata": {},
   "outputs": [],
   "source": [
    "true_delays = df['true_delay'].values\n",
    "est_delays  = df['estimated_delay'].values "
   ]
  },
  {
   "cell_type": "code",
   "execution_count": null,
   "metadata": {},
   "outputs": [],
   "source": [
    "est_delays = est_delays[np.argsort(true_delays)]\n",
    "true_delays = true_delays[np.argsort(true_delays)]"
   ]
  },
  {
   "cell_type": "code",
   "execution_count": null,
   "metadata": {},
   "outputs": [],
   "source": [
    "plt.scatter(true_delays, est_delays)\n",
    "plt.plot(true_delays, true_delays, color='r', label='y=x')\n",
    "plt.xlabel('true delay [days]', fontsize=15)\n",
    "plt.ylabel('estimated delay [days]', fontsize=15)\n",
    "plt.title('Estimated delay vs True delay', fontsize=20)\n",
    "plt.tick_params(labelsize=15)\n",
    "plt.legend(fontsize=15)\n",
    "plt.savefig('../aux/dt_est_vs_dt_true.pdf')"
   ]
  },
  {
   "cell_type": "code",
   "execution_count": null,
   "metadata": {},
   "outputs": [],
   "source": [
    "percentile_errors = np.abs((true_delays - est_delays)/true_delays)"
   ]
  },
  {
   "cell_type": "code",
   "execution_count": null,
   "metadata": {},
   "outputs": [],
   "source": [
    "plt.scatter(true_delays, percentile_errors, \n",
    "            label=r'$\\frac{|\\Delta T_{\\mathrm{true}} - \\Delta T_{\\mathrm{est}}|}{\\Delta T_{\\mathrm{true}}}$')\n",
    "plt.legend(fontsize=30)\n",
    "plt.xlabel(r'$\\Delta T_{\\mathrm{true}}[days]$', fontsize=15)\n",
    "plt.ylabel(r'Fractional error', fontsize=15)\n",
    "plt.tick_params(labelsize=15)\n",
    "plt.title('Fractional error vs True delay', fontsize=20)\n",
    "plt.savefig('../aux/delay_MC_fractional_errors.pdf')"
   ]
  },
  {
   "cell_type": "code",
   "execution_count": null,
   "metadata": {},
   "outputs": [],
   "source": [
    "new_errs = sigma_clip(percentile_errors, masked=True, maxiters=10, cenfunc='mean')\n",
    "mask = (1-new_errs.mask).astype(bool)"
   ]
  },
  {
   "cell_type": "code",
   "execution_count": null,
   "metadata": {},
   "outputs": [],
   "source": [
    "plt.scatter(true_delays[mask], new_errs[mask])\n",
    "plt.xlabel(r'$\\Delta T_{\\mathrm{true}}[days]$', fontsize=15)\n",
    "plt.ylabel(r'Fractional error', fontsize=15)\n",
    "plt.tick_params(labelsize=15)\n",
    "plt.title('Fractional error vs True delay after 10 sigma clipping iterations', fontsize=20)\n",
    "plt.savefig('../aux/delay_MC_fractional_errors_sigma_clipped.pdf')"
   ]
  },
  {
   "cell_type": "code",
   "execution_count": null,
   "metadata": {},
   "outputs": [],
   "source": [
    "plt.scatter(true_delays, np.abs(true_delays - est_delays), \n",
    "            label=r'$|\\Delta T_{\\mathrm{true}} - \\Delta T_{\\mathrm{est}}|$')\n",
    "plt.legend(fontsize=20)\n",
    "plt.xlabel(r'$\\Delta T_{\\mathrm{true}}$', fontsize=15)\n",
    "plt.ylabel(r'Absolute error [days]', fontsize=15)\n",
    "plt.tick_params(labelsize=15)\n",
    "plt.title('Absolute error vs True delay', fontsize=20)\n",
    "plt.savefig('../aux/delay_MC_absolute_errors.pdf')"
   ]
  },
  {
   "cell_type": "code",
   "execution_count": null,
   "metadata": {},
   "outputs": [],
   "source": []
  }
 ],
 "metadata": {
  "kernelspec": {
   "display_name": "Python 3",
   "language": "python",
   "name": "python3"
  },
  "language_info": {
   "codemirror_mode": {
    "name": "ipython",
    "version": 3
   },
   "file_extension": ".py",
   "mimetype": "text/x-python",
   "name": "python",
   "nbconvert_exporter": "python",
   "pygments_lexer": "ipython3",
   "version": "3.7.6"
  }
 },
 "nbformat": 4,
 "nbformat_minor": 4
}
