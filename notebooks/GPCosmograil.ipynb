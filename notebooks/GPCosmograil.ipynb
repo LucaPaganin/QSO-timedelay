{
 "cells": [
  {
   "cell_type": "markdown",
   "metadata": {},
   "source": [
    "### Imports"
   ]
  },
  {
   "cell_type": "code",
   "execution_count": null,
   "metadata": {},
   "outputs": [],
   "source": [
    "import numpy as np\n",
    "import pandas as pd\n",
    "import importlib\n",
    "import matplotlib.pyplot as plt\n",
    "import matplotlib\n",
    "from pathlib import Path\n",
    "import os\n",
    "import string\n",
    "import random\n",
    "from sklearn.gaussian_process import GaussianProcessRegressor\n",
    "from sklearn.gaussian_process.kernels import RBF, Matern, ConstantKernel as C\n",
    "import pandas as pd\n",
    "import julian\n",
    "import datetime\n",
    "import sys\n",
    "\n",
    "sys.path.insert(0, '..')"
   ]
  },
  {
   "cell_type": "markdown",
   "metadata": {},
   "source": [
    "### Data Download"
   ]
  },
  {
   "cell_type": "code",
   "execution_count": null,
   "metadata": {},
   "outputs": [],
   "source": [
    "#HE0435\n",
    "CosmoGrail = pd.read_table('../data/cosmograil/HE0435_Bonvin2016.rdb_.txt')\n",
    "\n",
    "t = CosmoGrail['mhjd'].values[1:].astype('float')\n",
    "A = CosmoGrail['mag_A'].values[1:].astype('float')\n",
    "dA = CosmoGrail['magerr_A'].values[1:].astype('float')\n",
    "B = CosmoGrail['mag_B'].values[1:].astype('float')\n",
    "dB = CosmoGrail['magerr_B'].values[1:].astype('float')\n",
    "C_ = CosmoGrail['mag_C'].values[1:].astype('float')\n",
    "dC_ = CosmoGrail['magerr_C'].values[1:].astype('float')\n",
    "D = CosmoGrail['mag_D'].values[1:].astype('float')\n",
    "dD = CosmoGrail['magerr_D'].values[1:].astype('float')"
   ]
  },
  {
   "cell_type": "markdown",
   "metadata": {},
   "source": [
    "### Print some light curve pairs"
   ]
  },
  {
   "cell_type": "code",
   "execution_count": null,
   "metadata": {},
   "outputs": [],
   "source": [
    "%matplotlib notebook\n",
    "plt.figure(figsize=(20,10))\n",
    "plt.plot(t,A,'x', label = 'A')\n",
    "plt.plot(t,B,'x', label = 'B')\n",
    "plt.plot(t,C_, 'o', label = 'C')\n",
    "plt.plot(t,D, 'o', label = 'D')\n",
    "plt.gca().invert_yaxis()\n",
    "plt.legend()\n",
    "plt.show()"
   ]
  },
  {
   "cell_type": "markdown",
   "metadata": {},
   "source": [
    "### GP Regression\n",
    "In the regression difference method, a Gaussian process regression is performed on each quasar image light curve independently. The regressions are then shifted in time and subtracted\n",
    "pair-wise, resulting in one difference curve for each pair of light\n",
    "curves and its associated uncertainties envelope. The algorithm\n",
    "minimises the variability of the difference curves by varying the\n",
    "time shift.\n",
    "\n",
    "In practice, for each of the n light curves, we evaluate the\n",
    "GPR every 0.2 days. Given some trial time shifts, we express\n",
    "the n (n − 1)/2 difference curves by subtracting linearly interpolated magnitudes of the shifted regression curves. Indeed, each\n",
    "pair of curves has to be considered only once; for the variability\n"
   ]
  },
  {
   "cell_type": "code",
   "execution_count": null,
   "metadata": {},
   "outputs": [],
   "source": [
    "kernel = C(0.1, (1e-3, 1e2)) * RBF(200, (1e-1, 5e2))\n",
    "kernel2 = C(2, (1e-3, 1e2)) * Matern(length_scale=200.0, length_scale_bounds=(1, 300), nu=1.5)\n",
    "gp1 = GaussianProcessRegressor(kernel=kernel2, alpha=dA**2,\n",
    "                              n_restarts_optimizer=10, optimizer = 'fmin_l_bfgs_b', normalize_y =True)\n",
    "gp2 = GaussianProcessRegressor(kernel=kernel2, alpha=dB**2,\n",
    "                              n_restarts_optimizer=10, optimizer = 'fmin_l_bfgs_b', normalize_y =True)\n",
    "\n",
    "\n",
    "gp1.fit(np.expand_dims(t,1), A)\n",
    "gp2.fit(np.expand_dims(t,1), B)"
   ]
  },
  {
   "cell_type": "code",
   "execution_count": null,
   "metadata": {},
   "outputs": [],
   "source": [
    "print(gp1.log_marginal_likelihood_value_)\n",
    "print(gp2.log_marginal_likelihood_value_)\n",
    "gp1.get_params()"
   ]
  },
  {
   "cell_type": "code",
   "execution_count": null,
   "metadata": {},
   "outputs": [],
   "source": [
    "gp_step = 0.2\n",
    "dt_ext = 100\n",
    "support = np.arange(t[0] - dt_ext, t[-1] + dt_ext, gp_step)\n",
    "y_pred1, sigma1 = gp1.predict(np.expand_dims(support,1), return_std=True)\n",
    "y_pred2, sigma2 = gp2.predict(np.expand_dims(support,1), return_std=True)"
   ]
  },
  {
   "cell_type": "markdown",
   "metadata": {},
   "source": [
    "### Plot Regression results"
   ]
  },
  {
   "cell_type": "code",
   "execution_count": null,
   "metadata": {},
   "outputs": [],
   "source": [
    "%matplotlib notebook\n",
    "plt.figure(figsize=(10,10))\n",
    "plt.plot(np.expand_dims(t,1), B, 'g.', markersize=3, label='ObservationsB')\n",
    "plt.plot(np.expand_dims(t,1), A, 'b.', markersize=3, label='ObservationsA')\n",
    "plt.plot(np.expand_dims(support,1), y_pred1, 'b-', label='PredictionA')\n",
    "plt.plot(np.expand_dims(support,1), y_pred2, 'g-', label='PredictionB')\n",
    "plt.fill(np.concatenate([np.expand_dims(support,1), np.expand_dims(support,1)[::-1]]),\n",
    "         np.concatenate([y_pred1 - 1.9600 * sigma1,\n",
    "                        (y_pred1 + 1.9600 * sigma1)[::-1]]),\n",
    "         alpha=.5, fc='b', ec='None', label='95% confidence interval B')\n",
    "plt.fill(np.concatenate([np.expand_dims(support,1), np.expand_dims(support,1)[::-1]]),\n",
    "         np.concatenate([y_pred2 - 1.9600 * sigma2,\n",
    "                        (y_pred2 + 1.9600 * sigma2)[::-1]]),\n",
    "         alpha=.5, fc='g', ec='None', label='95% confidence interval A')\n",
    "plt.xlabel('$x$')\n",
    "plt.ylabel('$f(x)$')\n",
    "plt.legend(loc='upper left')\n",
    "plt.gca().invert_yaxis()"
   ]
  },
  {
   "cell_type": "markdown",
   "metadata": {},
   "source": [
    "### Plot shifted curves and difference"
   ]
  },
  {
   "cell_type": "code",
   "execution_count": null,
   "metadata": {},
   "outputs": [],
   "source": [
    "%matplotlib notebook\n",
    "win = 1000\n",
    "shift = 0\n",
    "plt.plot(np.expand_dims(support,1)[win:-win],y_pred1[win:-win], color = 'g', label = 'A')\n",
    "plt.plot(np.expand_dims(support,1)[win:-win],y_pred2[win+shift:-win+shift], color = 'b', label = 'B')\n",
    "plt.legend()\n",
    "plt.gca().invert_yaxis()"
   ]
  },
  {
   "cell_type": "code",
   "execution_count": null,
   "metadata": {},
   "outputs": [],
   "source": [
    "%matplotlib notebook\n",
    "win = 1000\n",
    "shift = 0\n",
    "diff = y_pred1[win:-win]-y_pred2[win+shift:-win+shift]\n",
    "sigma_diff = sigma1[win:-win] + sigma2[win+shift:-win+shift]\n",
    "plt.plot(np.expand_dims(support,1)[win:-win],diff, color = 'b', label = 'Difference')\n",
    "plt.fill(np.concatenate([np.expand_dims(support,1)[win:-win], np.expand_dims(support,1)[win:-win][::-1]]),\n",
    "         np.concatenate([diff - 1.9600 * sigma_diff,\n",
    "                        (diff + 1.9600 * sigma_diff)[::-1]]),\n",
    "         alpha=.5, fc='b', ec='None', label='95% confidence interval difference')\n",
    "plt.legend()\n",
    "plt.gca().invert_yaxis()"
   ]
  },
  {
   "cell_type": "markdown",
   "metadata": {},
   "source": [
    "### Loss Function"
   ]
  },
  {
   "cell_type": "code",
   "execution_count": null,
   "metadata": {},
   "outputs": [],
   "source": [
    "%matplotlib notebook\n",
    "\n",
    "def numeric_derivative(f, step):\n",
    "    return (f[:-1] - f[1:])/step\n",
    "\n",
    "def stencil_derivative(f, step):\n",
    "    df = (f[:-4] - 8*f[1:-3] + 8*f[3:-1] - f[4:] )/(12*step)\n",
    "    return df\n",
    "\n",
    "def WAV(f, sigma, step):\n",
    "    # classic finite difference derivative\n",
    "    # f_prime = numeric_derivative(f, step)\n",
    "    # weights = 2/(sigma[:-1]+sigma[1:])\n",
    "    \n",
    "    # stencil 5 points derivative\n",
    "    f_prime = stencil_derivative(f, step)\n",
    "    weights = 2/(sigma[2:-2]+sigma[2:-2])\n",
    "    \n",
    "    WAV = np.dot(np.abs(f_prime), weights)/np.sum(weights)\n",
    "    return WAV\n",
    "\n",
    "WAV(diff,sigma_diff,gp_step)"
   ]
  },
  {
   "cell_type": "markdown",
   "metadata": {},
   "source": [
    "### Simple Test\n",
    "Simple Grid-search. Better results can be probably obtained with an out-of-the-box nonlinear optimizer"
   ]
  },
  {
   "cell_type": "code",
   "execution_count": null,
   "metadata": {},
   "outputs": [],
   "source": [
    "win = int(dt_ext/gp_step)\n",
    "dt_min = -100\n",
    "dt_max = +100\n",
    "shift = np.arange(int(dt_min/gp_step),int(dt_max/gp_step),1)\n",
    "WAV_values = []\n",
    "for i in shift:\n",
    "    diff = y_pred1[win:-win]-y_pred2[win+i:-win+i]\n",
    "    sigma_diff = sigma1[win:-win] + sigma2[win+i:-win+i]\n",
    "    WAV_values.append(WAV(diff,sigma_diff,gp_step))\n",
    "\n",
    "estimated_delay = shift[np.argmin(WAV_values)] * gp_step    \n",
    "\n",
    "print('Estimated delay: ', estimated_delay)"
   ]
  },
  {
   "cell_type": "code",
   "execution_count": null,
   "metadata": {},
   "outputs": [],
   "source": [
    "plt.plot(shift*gp_step, WAV_values)\n",
    "plt.xlabel('time lag[days]')\n",
    "plt.ylabel('WAV')\n",
    "plt.title('WAV loss function for HE0435 A vs B')\n",
    "plt.savefig('../aux/outputs/wav_data_HE0435.pdf')"
   ]
  },
  {
   "cell_type": "markdown",
   "metadata": {},
   "source": [
    "### Summary"
   ]
  },
  {
   "cell_type": "code",
   "execution_count": null,
   "metadata": {},
   "outputs": [],
   "source": [
    "#BD ------> -6.80    (Milton2020: -5.4 ± 0.8)  (Courbin2011: -6.5 ± 0.7) \n",
    "#AD ------> -13.2   (Milton2020: -13.8 ± 0.9)  (Courbin2011: -14.9 ± 2.1) \n",
    "#AB ------> -8.4    (Milton2020: -9.0 ± 0.8)  (Courbin2011: -8.4 ± 2.1) \n",
    "#AC ------>  0.2  (Milton2020: -0.8 ± 0.7)  (Courbin2011: 0.6 ± 2.3) \n",
    "#BC ------>  +8.0   (Milton2020: +7.8 ± 0.9)  (Courbin2011: +7.8 ± 0.8) \n",
    "#CD ------>  -13.2   (Milton2020: -13.2 ± 0.8)  (Courbin2011: -14.3 ± 0.8)"
   ]
  }
 ],
 "metadata": {
  "kernelspec": {
   "display_name": "Python 3",
   "language": "python",
   "name": "python3"
  },
  "language_info": {
   "codemirror_mode": {
    "name": "ipython",
    "version": 3
   },
   "file_extension": ".py",
   "mimetype": "text/x-python",
   "name": "python",
   "nbconvert_exporter": "python",
   "pygments_lexer": "ipython3",
   "version": "3.7.6"
  }
 },
 "nbformat": 4,
 "nbformat_minor": 4
}
