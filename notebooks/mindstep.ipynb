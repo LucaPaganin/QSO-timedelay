{
 "cells": [
  {
   "cell_type": "code",
   "execution_count": null,
   "metadata": {},
   "outputs": [],
   "source": [
    "import numpy as np\n",
    "import pandas as pd\n",
    "import itertools\n",
    "import h5py\n",
    "import matplotlib.pyplot as plt\n",
    "from scipy import stats\n",
    "from scipy import special\n",
    "from scipy import integrate\n",
    "from scipy import interpolate\n",
    "from scipy import linalg\n",
    "from scipy import signal\n",
    "from scipy.optimize import curve_fit\n",
    "import time\n",
    "from pathlib import Path\n",
    "import os\n",
    "import random\n",
    "from sklearn.gaussian_process import GaussianProcessRegressor\n",
    "from sklearn.gaussian_process.kernels import RBF, Matern, ConstantKernel\n",
    "\n",
    "plt.rcParams['figure.figsize'] = (8, 6)\n",
    "plt.rcParams['figure.dpi'] = 120\n",
    "plt.rcParams['text.usetex'] = True\n",
    "\n",
    "import sys\n",
    "import mpld3\n",
    "\n",
    "#mpld3.enable_notebook()\n",
    "\n",
    "sys.path.insert(0, '..')\n",
    "from modules import prh\n",
    "from modules import regression as rg"
   ]
  },
  {
   "cell_type": "code",
   "execution_count": null,
   "metadata": {},
   "outputs": [],
   "source": [
    "def get_season_masks(t):\n",
    "    diffs = np.diff(t)\n",
    "    \n",
    "    season_ends = np.where(diffs >= diffs.mean() + 3*diffs.std())[0]\n",
    "    season_begs = season_ends + 1\n",
    "    \n",
    "    season_begs = np.append(season_begs, 0)\n",
    "    season_ends = np.append(season_ends, len(t)-1)\n",
    "    \n",
    "    season_ends.sort()\n",
    "    season_begs.sort()\n",
    "    \n",
    "    masks = []\n",
    "    \n",
    "    for beg, end in zip(season_begs, season_ends):\n",
    "        masks.append((t >= t[beg]) & (t <= t[end]))\n",
    "    \n",
    "    return masks\n",
    "    "
   ]
  },
  {
   "cell_type": "markdown",
   "metadata": {},
   "source": [
    "## Load data"
   ]
  },
  {
   "cell_type": "code",
   "execution_count": null,
   "metadata": {},
   "outputs": [],
   "source": [
    "he_qso = pd.read_csv('../data/mindstep/HE_0047-1756.csv', delim_whitespace=True)\n",
    "\n",
    "t = he_qso['MJD'].values\n",
    "yA = he_qso['magAV'].values\n",
    "yB = he_qso['magBV'].values\n",
    "errA = he_qso['sigmaAV'].values\n",
    "errB = he_qso['sigmaBV'].values\n",
    "\n",
    "# drop nan\n",
    "\n",
    "a_nan_mask = (1-np.isnan(yA)).astype(bool)\n",
    "t = t[a_nan_mask]\n",
    "yA = yA[a_nan_mask]\n",
    "yB = yB[a_nan_mask]\n",
    "errA = errA[a_nan_mask]\n",
    "errB = errB[a_nan_mask]"
   ]
  },
  {
   "cell_type": "markdown",
   "metadata": {},
   "source": [
    "season_masks = get_season_masks(t)\n",
    "\n",
    "#plt.scatter(t, yA, label='all')\n",
    "for i, mask in enumerate(season_masks):\n",
    "    plt.scatter(t[mask], yA[mask], label='season %s' % (i+1))\n",
    "plt.legend()"
   ]
  },
  {
   "cell_type": "code",
   "execution_count": null,
   "metadata": {},
   "outputs": [],
   "source": [
    "kernel = ConstantKernel(2, (1e-3, 1e2)) * Matern(length_scale=200.0, length_scale_bounds=(1, 300), nu=1.5)\n",
    "\n",
    "gpA = rg.fit_GP_to_lightcurve(t, yA, errA, kernel)\n",
    "gpB = rg.fit_GP_to_lightcurve(t, yB, errB, kernel)\n",
    "\n",
    "gp_step = 0.2\n",
    "support = np.arange(t[0] - 5e0, t[-1] + 5e0, gp_step)\n",
    "\n",
    "ypredA, sigmaA = gpA.predict(np.expand_dims(support, 1), return_std=True)\n",
    "ypredB, sigmaB = gpB.predict(np.expand_dims(support, 1), return_std=True)"
   ]
  },
  {
   "cell_type": "code",
   "execution_count": null,
   "metadata": {},
   "outputs": [],
   "source": [
    "CL = 0.95\n",
    "fig = plt.figure()\n",
    "plt.scatter(t, yA, label='magAV', color='b')\n",
    "plt.scatter(t, yB, label='magBV', color='g')\n",
    "\n",
    "plt.plot(support, ypredA, label='magAV GP prediction', color = 'b')\n",
    "plt.plot(support, ypredB, label='magBV GP prediction', color = 'g')\n",
    "\n",
    "plt.fill_between(support, ypredA - special.erfinv(CL)*sigmaA, ypredA + special.erfinv(CL)*sigmaA,\n",
    "         alpha=.5, fc='b', ec='None', label=r'95\\% confidence interval A')\n",
    "plt.fill_between(support, ypredB - special.erfinv(CL)*sigmaB, ypredB + special.erfinv(CL)*sigmaB,\n",
    "         alpha=.5, fc='g', ec='None', label=r'95\\% confidence interval B')\n",
    "plt.legend(fontsize=10)\n",
    "\n",
    "plt.xlabel('t[MJD]')\n",
    "plt.ylabel('mag')\n",
    "plt.title('HE0047-1756 (MindStep data)')\n",
    "\n",
    "fig.savefig('mindstep_gp_prediction.pdf')"
   ]
  },
  {
   "cell_type": "code",
   "execution_count": null,
   "metadata": {},
   "outputs": [],
   "source": [
    "CL = 0.95\n",
    "fig = plt.figure()\n",
    "diff = ypredA - ypredB\n",
    "sigma_diff = sigmaA + sigmaB\n",
    "\n",
    "plt.scatter(t, yA-yB, color='blue', label='magAV - magBV (data)')\n",
    "plt.plot(support, diff, label='magAV - magBV (predicted)', color='red')\n",
    "plt.fill_between(support, \n",
    "                 diff - special.erfinv(CL)*sigma_diff, \n",
    "                 diff + special.erfinv(CL)*sigma_diff,\n",
    "                 alpha=.5, fc='red', ec='None', label=r'95\\% CL')\n",
    "plt.legend()\n",
    "plt.xlabel('t[MJD]')\n",
    "fig.savefig('diff_pred.pdf')"
   ]
  },
  {
   "cell_type": "code",
   "execution_count": null,
   "metadata": {},
   "outputs": [],
   "source": [
    "def numeric_derivative(f: np.ndarray, step: float) -> np.ndarray:\n",
    "    return (f[1:] - f[:-1]) / step\n",
    "\n",
    "\n",
    "def WAV(f, sigma, step):\n",
    "    f_prime = numeric_derivative(f, step)\n",
    "    weights = 2 / (sigma[:-1] + sigma[1:])\n",
    "    WAV = np.dot(np.abs(f_prime), weights) / weights.sum()\n",
    "    return WAV"
   ]
  },
  {
   "cell_type": "code",
   "execution_count": null,
   "metadata": {},
   "outputs": [],
   "source": [
    "dt_min_days = 0\n",
    "dt_max_days = 50\n",
    "\n",
    "shift = np.arange(int(dt_min_days / gp_step),\n",
    "                  int(dt_max_days / gp_step), 1)\n",
    "win = len(shift)"
   ]
  },
  {
   "cell_type": "code",
   "execution_count": null,
   "metadata": {},
   "outputs": [],
   "source": [
    "WAV_values = []\n",
    "for i in shift:\n",
    "    diff = ypredA[win:-win] - ypredB[win + i:-win + i]\n",
    "    sigma_diff = sigmaA[win:-win] + sigmaB[win + i:-win + i]\n",
    "    WAV_values.append(WAV(diff, sigma_diff, gp_step))\n",
    "    \n",
    "delay = np.argmin(WAV_values) * gp_step\n",
    "print(delay)"
   ]
  },
  {
   "cell_type": "code",
   "execution_count": null,
   "metadata": {},
   "outputs": [],
   "source": [
    "shift_dom = gp_step*shift\n",
    "fig = plt.figure()\n",
    "plt.plot(shift_dom, WAV_values, label='WAV loss function')\n",
    "plt.xlabel('time lag[days]')\n",
    "plt.axvline(x=7.6, color='red', label='Mindstep result (7.6 days)')\n",
    "plt.legend()\n",
    "fig.savefig('wav_loss.pdf')"
   ]
  },
  {
   "cell_type": "code",
   "execution_count": null,
   "metadata": {},
   "outputs": [],
   "source": []
  }
 ],
 "metadata": {
  "kernelspec": {
   "display_name": "Python 3",
   "language": "python",
   "name": "python3"
  },
  "language_info": {
   "codemirror_mode": {
    "name": "ipython",
    "version": 3
   },
   "file_extension": ".py",
   "mimetype": "text/x-python",
   "name": "python",
   "nbconvert_exporter": "python",
   "pygments_lexer": "ipython3",
   "version": "3.7.6"
  }
 },
 "nbformat": 4,
 "nbformat_minor": 4
}
