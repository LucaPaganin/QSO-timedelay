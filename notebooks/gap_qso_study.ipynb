{
 "cells": [
  {
   "cell_type": "code",
   "execution_count": null,
   "metadata": {},
   "outputs": [],
   "source": [
    "import numpy as np\n",
    "import pandas as pd\n",
    "import itertools\n",
    "import matplotlib.pyplot as plt\n",
    "from scipy import stats\n",
    "from scipy import special\n",
    "from scipy import integrate\n",
    "from scipy import interpolate\n",
    "import time\n",
    "from pathlib import Path\n",
    "import os\n",
    "import random\n",
    "from sklearn.gaussian_process import GaussianProcessRegressor\n",
    "from sklearn.gaussian_process.kernels import RBF, Matern, ConstantKernel\n",
    "\n",
    "plt.rcParams['figure.figsize'] = (11, 8)\n",
    "plt.rcParams['figure.dpi'] = 120\n",
    "plt.rcParams['text.usetex'] = True\n",
    "\n",
    "import sys\n",
    "\n",
    "sys.path.insert(0, '..')\n",
    "from modules import structure_func as sf\n",
    "from modules import regression as rg"
   ]
  },
  {
   "cell_type": "code",
   "execution_count": null,
   "metadata": {},
   "outputs": [],
   "source": [
    "data = pd.read_table('../data/cosmograil_data/RXJ1131_Tewes2013.rdb_-1.txt')\n",
    "\n",
    "t = data['mhjd'].to_numpy(dtype=np.float64)\n",
    "A = data['mag_A'].to_numpy(dtype=np.float64)\n",
    "B = data['mag_B'].to_numpy(dtype=np.float64)\n",
    "errA = data['magerr_A'].to_numpy(dtype=np.float64)\n",
    "errB = data['magerr_B'].to_numpy(dtype=np.float64)\n",
    "\n",
    "N = len(t)"
   ]
  },
  {
   "cell_type": "code",
   "execution_count": null,
   "metadata": {},
   "outputs": [],
   "source": [
    "plt.scatter(t, A, label='A')\n",
    "plt.legend()"
   ]
  },
  {
   "cell_type": "code",
   "execution_count": null,
   "metadata": {},
   "outputs": [],
   "source": [
    "diffs = np.diff(t)\n",
    "mean_diff = diffs.mean()\n",
    "small_diffs = diffs[diffs <= mean_diff]"
   ]
  },
  {
   "cell_type": "code",
   "execution_count": null,
   "metadata": {},
   "outputs": [],
   "source": [
    "plt.hist(small_diffs, bins=50)"
   ]
  },
  {
   "cell_type": "code",
   "execution_count": null,
   "metadata": {},
   "outputs": [],
   "source": [
    "def get_large_gaps(diffs, nsigma=3):\n",
    "    mean_dt = diffs.mean()\n",
    "    sigma_dt = diffs.std()\n",
    "    return diffs[diffs >= mean_dt + nsigma*sigma_dt]"
   ]
  },
  {
   "cell_type": "code",
   "execution_count": null,
   "metadata": {},
   "outputs": [],
   "source": [
    "input_files = list(Path('../data/cosmograil_data/').glob('*'))\n",
    "\n",
    "gaps_df_dict = {}\n",
    "large_gaps_dict = {}\n",
    "\n",
    "for file in input_files:\n",
    "    gaps_df = pd.DataFrame()\n",
    "    qso_id = file.name.split('_')[0]\n",
    "    for nsigma in [1,2,3]:\n",
    "        qso_df = pd.read_table(file, delim_whitespace=True)\n",
    "        t = qso_df['mhjd'].values\n",
    "        diffs = np.diff(t)\n",
    "        large_gaps = get_large_gaps(diffs, nsigma=nsigma)\n",
    "        data_dict = {'gapsize_mean': large_gaps.mean(), \n",
    "                     'gapsize_sigma': large_gaps.std(),\n",
    "                     'n_gaps': len(large_gaps), \n",
    "                     'obs_time': t[-1]-t[0], \n",
    "                     'mean_sampling_rate': 1./diffs.mean(),\n",
    "                     'n_samples': len(t)}\n",
    "        gaps_df = gaps_df.append(pd.DataFrame(data_dict, index=[nsigma]))\n",
    "    large_gaps_dict[qso_id] = get_large_gaps(diffs, nsigma=3)\n",
    "    gaps_df_dict[qso_id] = gaps_df\n",
    "\n",
    "df = pd.concat(gaps_df_dict, names=['qso', 'nsigma'])\n",
    "\n",
    "df"
   ]
  },
  {
   "cell_type": "code",
   "execution_count": null,
   "metadata": {},
   "outputs": [],
   "source": [
    "diffs = np.diff(t)\n",
    "mean_diff = diffs.mean()\n",
    "sigma_diff = diffs.std()\n",
    "season_ends = t[np.where(diffs >= mean_diff + 3*sigma_diff)[0]] \n",
    "seasons = []\n",
    "\n",
    "for i in range(len(season_ends) - 1):\n",
    "    start = season_ends[i]\n",
    "    end = season_ends[i+1]\n",
    "    seasons.append(t[(t > start) & (t <= end)])\n"
   ]
  },
  {
   "cell_type": "code",
   "execution_count": null,
   "metadata": {},
   "outputs": [],
   "source": [
    "for s in seasons:\n",
    "    plt.scatter(s, 0*s)"
   ]
  },
  {
   "cell_type": "code",
   "execution_count": null,
   "metadata": {},
   "outputs": [],
   "source": [
    "plt.scatter(seasons[0], seasons[0]*0)"
   ]
  },
  {
   "cell_type": "code",
   "execution_count": null,
   "metadata": {},
   "outputs": [],
   "source": [
    "T = 1000\n",
    "step = 5\n",
    "t_base = np.arange(0, T, step)\n",
    "np.random.seed(1234)\n",
    "noise = np.random.normal(t_base, step/3, size=len(t_base))\n",
    "#noise += np.random.normal(t_base+step/4, step/3, size=len(t_base))\n",
    "myt = t_base + noise"
   ]
  },
  {
   "cell_type": "code",
   "execution_count": null,
   "metadata": {},
   "outputs": [],
   "source": [
    "plt.hist(np.diff(myt))"
   ]
  },
  {
   "cell_type": "code",
   "execution_count": null,
   "metadata": {},
   "outputs": [],
   "source": []
  }
 ],
 "metadata": {
  "kernelspec": {
   "display_name": "Python 3",
   "language": "python",
   "name": "python3"
  },
  "language_info": {
   "codemirror_mode": {
    "name": "ipython",
    "version": 3
   },
   "file_extension": ".py",
   "mimetype": "text/x-python",
   "name": "python",
   "nbconvert_exporter": "python",
   "pygments_lexer": "ipython3",
   "version": "3.7.6"
  }
 },
 "nbformat": 4,
 "nbformat_minor": 4
}
