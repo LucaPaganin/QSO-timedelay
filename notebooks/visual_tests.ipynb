{
 "cells": [
  {
   "cell_type": "code",
   "execution_count": null,
   "metadata": {},
   "outputs": [],
   "source": [
    "import numpy as np\n",
    "import pandas as pd\n",
    "import itertools\n",
    "import h5py\n",
    "import matplotlib.pyplot as plt\n",
    "from scipy import stats\n",
    "from scipy import special\n",
    "from scipy import integrate\n",
    "from scipy import interpolate\n",
    "from scipy import linalg\n",
    "from scipy import signal\n",
    "from scipy.optimize import curve_fit\n",
    "import time\n",
    "from pathlib import Path\n",
    "import os\n",
    "import random\n",
    "from sklearn.gaussian_process import GaussianProcessRegressor\n",
    "from sklearn.gaussian_process.kernels import RBF, Matern, ConstantKernel\n",
    "\n",
    "plt.rcParams['figure.figsize'] = (12, 10)\n",
    "plt.rcParams['figure.dpi'] = 120\n",
    "plt.rcParams['text.usetex'] = True\n",
    "\n",
    "import sys\n",
    "import mpld3\n",
    "\n",
    "#mpld3.enable_notebook()\n",
    "\n",
    "sys.path.insert(0, '..')\n",
    "from modules import prh\n",
    "from modules import regression as rg\n",
    "from modules import utils"
   ]
  },
  {
   "cell_type": "code",
   "execution_count": null,
   "metadata": {},
   "outputs": [],
   "source": [
    "dataset = prh.LightCurvePRHDataset(input_file='../aux/HE0435_delay_50d_NMC_100.h5')\n",
    "\n",
    "qso_data = dataset.getOriginalQSOData()\n",
    "\n",
    "t = qso_data['time_domain'][()]\n",
    "qso_lc_vals = qso_data['qso_light_curve_values'][()]\n",
    "qso_lc_errs = qso_data['qso_light_curve_errors'][()]\n",
    "qso_id = 'HE0435'\n",
    "\n",
    "outdir = Path('../aux/outputs/')\n",
    "\n",
    "r = dataset.getMCRealization(5)\n",
    "\n",
    "y1 = r['yA'][()]\n",
    "y2 = r['yB'][()]\n",
    "err1 = r['errA'][()]\n",
    "err2 = r['errB'][()]"
   ]
  },
  {
   "cell_type": "code",
   "execution_count": null,
   "metadata": {},
   "outputs": [],
   "source": [
    "t_begs = t[utils.get_season_begs(t)]\n",
    "t_ends = t[utils.get_season_ends(t)]"
   ]
  },
  {
   "cell_type": "code",
   "execution_count": null,
   "metadata": {},
   "outputs": [],
   "source": [
    "kernel = ConstantKernel(2, (1e-3, 1e2)) * Matern(length_scale=200.0, length_scale_bounds=(1, 300), nu=1.5)\n",
    "\n",
    "gp1 = rg.fit_GP_to_lightcurve(t, y1, err1, kernel)\n",
    "gp2 = rg.fit_GP_to_lightcurve(t, y2, err2, kernel)\n",
    "\n",
    "gp_step = 0.2\n",
    "# number of points to add on the left and right ends of the domain in order to make possible to shift the signals\n",
    "dt_ext = 100\n",
    "support = np.arange(t[0] - dt_ext, t[-1] + dt_ext, gp_step)\n",
    "\n",
    "ypred1, sigma1 = gp1.predict(np.expand_dims(support, 1), return_std=True)\n",
    "ypred2, sigma2 = gp2.predict(np.expand_dims(support, 1), return_std=True)"
   ]
  },
  {
   "cell_type": "code",
   "execution_count": null,
   "metadata": {},
   "outputs": [],
   "source": [
    "n_p = 0\n",
    "for beg, end in zip(t_begs, t_ends):\n",
    "    n_p += len(support[(support >= beg) & (support <= end)])"
   ]
  },
  {
   "cell_type": "code",
   "execution_count": null,
   "metadata": {},
   "outputs": [],
   "source": [
    "(len(support) - n_p) / len(support)"
   ]
  },
  {
   "cell_type": "code",
   "execution_count": null,
   "metadata": {},
   "outputs": [],
   "source": [
    "label1 = 'A'\n",
    "label2 = 'B'\n",
    "\n",
    "CL = 0.95\n",
    "fig = plt.figure()\n",
    "plt.scatter(t, y1, label=label1, color='b')\n",
    "plt.scatter(t, y2, label=label2, color='g')\n",
    "\n",
    "plt.plot(support, ypred1, label='%s GP prediction' % label1, color = 'b')\n",
    "plt.plot(support, ypred2, label='%s GP prediction' % label2, color = 'g')\n",
    "\n",
    "plt.fill_between(support, ypred1 - special.erfinv(CL)*sigma1, ypred1 + special.erfinv(CL)*sigma1,\n",
    "         alpha=.5, fc='b', ec='None', label=r'95\\% confidence interval A')\n",
    "plt.fill_between(support, ypred2 - special.erfinv(CL)*sigma2, ypred2 + special.erfinv(CL)*sigma2,\n",
    "         alpha=.5, fc='g', ec='None', label=r'95\\% confidence interval B')\n",
    "plt.legend(fontsize=10)\n",
    "\n",
    "plt.xlabel('t[MJD]')\n",
    "plt.ylabel('mag')\n",
    "plt.title('HE0047-1756 (MindStep data)')"
   ]
  },
  {
   "cell_type": "code",
   "execution_count": null,
   "metadata": {},
   "outputs": [],
   "source": [
    "def stencil_derivative(f, step):\n",
    "    df = (f[:-4] - 8*f[1:-3] + 8*f[3:-1] - f[4:] )/(12*step)\n",
    "    return df\n",
    "\n",
    "def numeric_derivative(f: np.ndarray, step: float) -> np.ndarray:\n",
    "    return (f[1:] - f[:-1]) / step\n",
    "\n",
    "def WAV(f, sigma, step):\n",
    "    f_prime = numeric_derivative(f, step)\n",
    "    weights = 2 / (sigma[:-1] + sigma[1:])\n",
    "    # f_prime = stencil_derivative(f, step)\n",
    "    # weights = 2 / (sigma[2:-2] + sigma[2:-2])\n",
    "    WAV = np.dot(np.abs(f_prime), weights) / weights.sum()\n",
    "    return WAV"
   ]
  },
  {
   "cell_type": "code",
   "execution_count": null,
   "metadata": {},
   "outputs": [],
   "source": [
    "dt_min_days =  0\n",
    "dt_max_days =  100\n",
    "\n",
    "shift = np.arange(int(dt_min_days / gp_step),\n",
    "                  int(dt_max_days / gp_step), 1)\n",
    "win = int(dt_ext/gp_step)\n",
    "\n",
    "WAV_values = []\n",
    "for i in shift:\n",
    "    diff = ypred1[win:-win] - ypred2[win + i:-win + i]\n",
    "    sigma_diff = sigma1[win:-win] + sigma2[win + i:-win + i]\n",
    "    WAV_values.append(WAV(diff, sigma_diff, gp_step))\n",
    "    \n",
    "\n",
    "delay_idx = np.argmin(WAV_values)\n",
    "delay = shift[delay_idx] * gp_step\n",
    "print(delay)"
   ]
  },
  {
   "cell_type": "code",
   "execution_count": null,
   "metadata": {},
   "outputs": [],
   "source": [
    "fig = plt.figure()\n",
    "plt.plot(shift*gp_step, WAV_values)\n",
    "plt.xlabel('time lag[days]')\n",
    "plt.ylabel('WAV')\n",
    "plt.title('WAV loss function for MC generated from %s' % qso_id)\n",
    "fig.savefig(outdir / ('wav_MC_%s.pdf' % qso_id))"
   ]
  },
  {
   "cell_type": "code",
   "execution_count": null,
   "metadata": {},
   "outputs": [],
   "source": [
    "shift_idx = 251\n",
    "myshift = shift[shift_idx]\n",
    "time_shift = myshift*gp_step\n",
    "\n",
    "fig, axs = plt.subplots(figsize=(15,30), nrows=3, ncols=1)\n",
    "\n",
    "t_dom = support[win:-win] \n",
    "\n",
    "axs[0].plot(t_dom, ypred1[win:-win], \n",
    "            label='magA predicted')\n",
    "axs[0].plot(t_dom, ypred2[win + myshift : -win + myshift], \n",
    "            label='magB shifted by %.2f days' % (time_shift))\n",
    "\n",
    "diff = ypred1[win:-win] - ypred2[win + myshift : -win + myshift]\n",
    "\n",
    "axs[1].plot(t_dom, diff, \n",
    "            label='difference curve for shift %.2f days' % (time_shift))\n",
    "\n",
    "der_diff = stencil_derivative(diff, gp_step)\n",
    "\n",
    "axs[2].plot(t_dom[2:-2], der_diff, \n",
    "            label='derivative of difference curve for shift %.2f days' % (time_shift))\n",
    "\n",
    "axs[0].legend()\n",
    "axs[1].legend()\n",
    "axs[0].set_title('GP predicted light curves')\n",
    "axs[1].set_title('Difference curve, WAV = %.2f' % WAV_values[myshift])\n",
    "axs[2].set_title('Derivative of difference curve, shift %.2f' % time_shift)\n",
    "\n",
    "fig.savefig(outdir / f'regression_diff_shift_{time_shift:.0f}.pdf')"
   ]
  },
  {
   "cell_type": "code",
   "execution_count": null,
   "metadata": {},
   "outputs": [],
   "source": []
  },
  {
   "cell_type": "code",
   "execution_count": null,
   "metadata": {},
   "outputs": [],
   "source": []
  }
 ],
 "metadata": {
  "kernelspec": {
   "display_name": "Python 3",
   "language": "python",
   "name": "python3"
  },
  "language_info": {
   "codemirror_mode": {
    "name": "ipython",
    "version": 3
   },
   "file_extension": ".py",
   "mimetype": "text/x-python",
   "name": "python",
   "nbconvert_exporter": "python",
   "pygments_lexer": "ipython3",
   "version": "3.7.6"
  }
 },
 "nbformat": 4,
 "nbformat_minor": 4
}
