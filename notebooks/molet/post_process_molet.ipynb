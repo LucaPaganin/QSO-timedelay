{
 "cells": [
  {
   "cell_type": "code",
   "execution_count": 1,
   "metadata": {},
   "outputs": [],
   "source": [
    "import sys\n",
    "\n",
    "import json\n",
    "import itertools\n",
    "import numpy as np\n",
    "from pathlib import Path\n",
    "import matplotlib.pyplot as plt\n",
    "\n",
    "plt.style.use('../plt_params.mplstyle')"
   ]
  },
  {
   "cell_type": "markdown",
   "metadata": {},
   "source": [
    "## Reading raw JSON data\n",
    "\n",
    "Read into lists and reshape into numpy arrays"
   ]
  },
  {
   "cell_type": "code",
   "execution_count": null,
   "metadata": {},
   "outputs": [],
   "source": [
    "input_dirs = list(Path('/Users/lucapaganin/Downloads/molet_output/test_2/').glob(\"mock*\"))\n",
    "\n",
    "ts_list  = []\n",
    "lcs_list = []\n",
    "dts_list = []\n",
    "\n",
    "for d in input_dirs:\n",
    "    dts_list.append(np.array([float(line) for line in (d / 'time_delays.txt').read_text().splitlines()]))\n",
    "\n",
    "    with open(d / 'test_CAM_000_LC_continuous.json') as f:\n",
    "        data_lc = json.load(f)\n",
    "    \n",
    "    time_domain = np.array(data_lc[0]['time'])    \n",
    "    images_light_curves = np.array([x['signal'] for x in data_lc])\n",
    "    \n",
    "    lcs_list.append(images_light_curves)\n",
    "    ts_list.append(time_domain)\n",
    "    \n",
    "\n",
    "time_domain = ts_list[0]\n",
    "\n",
    "lcs = np.array(lcs_list)\n",
    "dts = np.array(dts_list)\n",
    "\n",
    "# lcs has shape n_imgs x n_ex_realiz x n_time_points\n",
    "lcs = np.transpose(lcs, axes=(1,0,2))\n",
    "# shape n_imgs x n_ex_realiz\n",
    "dts = np.transpose(dts, axes=(1,0))"
   ]
  },
  {
   "cell_type": "markdown",
   "metadata": {},
   "source": [
    "ATTENTION!! Here we delete the middle image light curves, since it is full of +inf values for some reason"
   ]
  },
  {
   "cell_type": "code",
   "execution_count": null,
   "metadata": {},
   "outputs": [],
   "source": [
    "# ATTENTION!! Here we delete the middle row of the images light curves, since it is full of +inf values for some reason\n",
    "lcs = np.delete(lcs, 2, axis=0)\n",
    "# At the same time we have to remove the middle row for the delays, since it is related to the +inf signal values\n",
    "dts = np.delete(dts, 2, axis=0)"
   ]
  },
  {
   "cell_type": "markdown",
   "metadata": {},
   "source": [
    "Generate the 6 combinations"
   ]
  },
  {
   "cell_type": "code",
   "execution_count": null,
   "metadata": {},
   "outputs": [],
   "source": [
    "mag_combos = []\n",
    "dts_combos = []\n",
    "\n",
    "n_images = lcs.shape[0]\n",
    "\n",
    "for i, j in itertools.combinations(range(lcs.shape[0]), 2):\n",
    "    mags_sum = -2.5*np.log10(10**(-lcs[i]/2.5) + 10**(-lcs[j]/2.5))\n",
    "    dts_sum  = np.abs(dts[i] - dts[j])\n",
    "    \n",
    "    mag_combos.append(mags_sum)\n",
    "    dts_combos.append(dts_sum)\n",
    "    \n",
    "    del mags_sum\n",
    "    del dts_sum\n",
    "\n",
    "mag_combos = np.array(mag_combos)\n",
    "dts_combos = np.array(dts_combos)"
   ]
  },
  {
   "cell_type": "markdown",
   "metadata": {},
   "source": [
    "Reshape data in the form X, y, where X is a matrix $N_{\\rm entries} \\times n_{\\rm time}$ and y is a vector $N_{\\rm entries} \\times 1$"
   ]
  },
  {
   "cell_type": "code",
   "execution_count": null,
   "metadata": {},
   "outputs": [],
   "source": [
    "n_combos, n_ex, n_time_samples = mag_combos.shape\n",
    "\n",
    "mag_combos = mag_combos.reshape(n_combos*n_ex, n_time_samples)\n",
    "\n",
    "dts_combos = dts_combos.reshape(n_combos*n_ex)\n",
    "\n",
    "idxs_to_drop = np.where(np.any(np.isinf(mag_combos), axis=1))[0]\n",
    "\n",
    "mag_combos = np.delete(mag_combos, idxs_to_drop, axis=0)\n",
    "dts_combos = np.delete(dts_combos, idxs_to_drop, axis=0)"
   ]
  },
  {
   "cell_type": "markdown",
   "metadata": {},
   "source": [
    "Save the data to a .npz compressed archive file"
   ]
  },
  {
   "cell_type": "code",
   "execution_count": null,
   "metadata": {},
   "outputs": [],
   "source": [
    "np.savez_compressed('processed_data.npz', X=mag_combos, y=dts_combos)"
   ]
  },
  {
   "cell_type": "code",
   "execution_count": null,
   "metadata": {},
   "outputs": [],
   "source": []
  },
  {
   "cell_type": "code",
   "execution_count": null,
   "metadata": {},
   "outputs": [],
   "source": []
  }
 ],
 "metadata": {
  "kernelspec": {
   "display_name": "Python 3",
   "language": "python",
   "name": "python3"
  },
  "language_info": {
   "codemirror_mode": {
    "name": "ipython",
    "version": 3
   },
   "file_extension": ".py",
   "mimetype": "text/x-python",
   "name": "python",
   "nbconvert_exporter": "python",
   "pygments_lexer": "ipython3",
   "version": "3.8.5"
  }
 },
 "nbformat": 4,
 "nbformat_minor": 4
}
