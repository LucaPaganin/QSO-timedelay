{
 "cells": [
  {
   "cell_type": "code",
   "execution_count": null,
   "metadata": {},
   "outputs": [],
   "source": [
    "import numpy as np\n",
    "import pandas as pd\n",
    "import itertools\n",
    "import h5py\n",
    "from astropy.stats import sigma_clip\n",
    "import matplotlib.pyplot as plt\n",
    "from scipy import stats\n",
    "from scipy import special\n",
    "from scipy import integrate\n",
    "from scipy import interpolate\n",
    "from scipy import linalg\n",
    "from scipy import signal\n",
    "from scipy.optimize import curve_fit\n",
    "import time\n",
    "from pathlib import Path\n",
    "import os\n",
    "import random\n",
    "from sklearn.gaussian_process import GaussianProcessRegressor\n",
    "from sklearn.gaussian_process.kernels import RBF, Matern, ConstantKernel\n",
    "from typing import Tuple\n",
    "\n",
    "plt.rcParams['figure.figsize'] = (8, 6)\n",
    "plt.rcParams['figure.dpi'] = 120\n",
    "#plt.rcParams['text.usetex'] = True\n",
    "\n",
    "import sys\n",
    "import mpld3\n",
    "\n",
    "sys.path.insert(0, '../../')\n",
    "\n",
    "from modules import prh_mc_utils as pmu"
   ]
  },
  {
   "cell_type": "code",
   "execution_count": null,
   "metadata": {},
   "outputs": [],
   "source": [
    "file_path = Path('../../data/cnn_base_data/original_data/HE0435_Bonvin2016.rdb_.txt')\n",
    "\n",
    "qso_id = file_path.name.split('_')[0]\n",
    "qso_data = pd.read_table(file_path)\n",
    "\n",
    "t = qso_data['mhjd'].to_numpy(dtype=np.float64)\n",
    "A = qso_data['mag_A'].to_numpy(dtype=np.float64)\n",
    "B = qso_data['mag_B'].to_numpy(dtype=np.float64)\n",
    "C = qso_data['mag_C'].to_numpy(dtype=np.float64)\n",
    "D = qso_data['mag_D'].to_numpy(dtype=np.float64)\n",
    "errA = qso_data['magerr_A'].to_numpy(dtype=np.float64)\n",
    "errB = qso_data['magerr_B'].to_numpy(dtype=np.float64)\n",
    "errC = qso_data['magerr_C'].to_numpy(dtype=np.float64)\n",
    "errD = qso_data['magerr_D'].to_numpy(dtype=np.float64)"
   ]
  },
  {
   "cell_type": "code",
   "execution_count": null,
   "metadata": {},
   "outputs": [],
   "source": [
    "plt.scatter(t, A, label=f'{qso_id} A')\n",
    "plt.scatter(t, B, label=f'{qso_id} B')\n",
    "plt.scatter(t, C, label=f'{qso_id} C')\n",
    "plt.scatter(t, D, label=f'{qso_id} D')\n",
    "plt.legend()"
   ]
  },
  {
   "cell_type": "code",
   "execution_count": null,
   "metadata": {},
   "outputs": [],
   "source": [
    "dts = np.diff(qso_data['mhjd'])\n",
    "\n",
    "new_dts = sigma_clip(dts, masked=False, cenfunc='mean')\n",
    "\n",
    "N_sampl_mean = (t[-1] - t[0])/new_dts.mean()\n",
    "\n",
    "print(N_sampl_mean)"
   ]
  },
  {
   "cell_type": "code",
   "execution_count": null,
   "metadata": {},
   "outputs": [],
   "source": [
    "image1 = 'A'\n",
    "image2 = 'B'\n",
    "\n",
    "mag1 = qso_data[f'mag_{image1}'].values\n",
    "mag2 = qso_data[f'mag_{image2}'].values\n",
    "\n",
    "magerr1 = qso_data[f'magerr_{image1}'].values\n",
    "magerr2 = qso_data[f'magerr_{image2}'].values\n",
    "\n",
    "y_input, err_input = pmu.mags_to_fluxsum_mag(mag1, mag2, magerr1, magerr2)"
   ]
  },
  {
   "cell_type": "code",
   "execution_count": null,
   "metadata": {},
   "outputs": [],
   "source": [
    "kernel = ConstantKernel(2, (1e-3, 1e2)) * Matern(length_scale=200.0, length_scale_bounds=(1, 300), nu=1.5)\n",
    "\n",
    "gp = GaussianProcessRegressor(kernel=kernel, alpha=err_input**2, n_restarts_optimizer=10, \n",
    "                              optimizer='fmin_l_bfgs_b', normalize_y=True)\n",
    "\n",
    "gp.fit(np.expand_dims(t,1), y_input)\n",
    "\n",
    "N = 2000\n",
    "support = np.linspace(t[0], t[-1], N)\n",
    "\n",
    "y, sigma = gp.predict(np.expand_dims(support, 1), return_std=True)"
   ]
  },
  {
   "cell_type": "code",
   "execution_count": null,
   "metadata": {},
   "outputs": [],
   "source": [
    "plt.scatter(t, y_input, color='b')\n",
    "plt.plot(support, y, color='b')\n",
    "plt.fill_between(support, y - 1.96*sigma, y + 1.96*sigma, fc='b', alpha=0.5)"
   ]
  },
  {
   "cell_type": "code",
   "execution_count": null,
   "metadata": {},
   "outputs": [],
   "source": [
    "tau, v = pmu.estimate_structure_func_from_data(support, y, sigma, n_bins=50)"
   ]
  },
  {
   "cell_type": "code",
   "execution_count": null,
   "metadata": {},
   "outputs": [],
   "source": [
    "mask = v>=0\n",
    "tau = tau[mask]\n",
    "v = v[mask]\n",
    "\n",
    "max_lag = 0.40*tau[-1]\n",
    "mask = tau <= max_lag\n",
    "\n",
    "v = v[mask]\n",
    "tau = tau[mask]"
   ]
  },
  {
   "cell_type": "code",
   "execution_count": null,
   "metadata": {},
   "outputs": [],
   "source": [
    "pars = stats.linregress(np.log10(tau), np.log10(v))\n",
    "slope = pars.slope\n",
    "intercept = pars.intercept\n",
    "\n",
    "plt.scatter(tau, v, color='blue')\n",
    "plt.plot(tau, 10**intercept * tau**slope, color='red')\n",
    "plt.xscale('log')\n",
    "plt.yscale('log')\n",
    "plt.grid()"
   ]
  },
  {
   "cell_type": "code",
   "execution_count": null,
   "metadata": {},
   "outputs": [],
   "source": [
    "delay = 200\n",
    "t_doubled = np.concatenate([support, support - delay])\n",
    "lags = pmu.compute_lags_matrix(t_doubled)\n",
    "\n",
    "C = ((y-sigma)**2).mean() - pmu.power_law_sf(lags, slope, intercept)\n",
    "\n",
    "L = np.linalg.cholesky(C)\n",
    "\n",
    "y_out = L @ np.random.normal(0, 1, 2*N)\n",
    "\n",
    "plt.plot(y_out[:N])\n",
    "plt.plot(y_out[N:])"
   ]
  },
  {
   "cell_type": "code",
   "execution_count": null,
   "metadata": {},
   "outputs": [],
   "source": []
  }
 ],
 "metadata": {
  "kernelspec": {
   "display_name": "Python 3",
   "language": "python",
   "name": "python3"
  },
  "language_info": {
   "codemirror_mode": {
    "name": "ipython",
    "version": 3
   },
   "file_extension": ".py",
   "mimetype": "text/x-python",
   "name": "python",
   "nbconvert_exporter": "python",
   "pygments_lexer": "ipython3",
   "version": "3.7.6"
  }
 },
 "nbformat": 4,
 "nbformat_minor": 4
}
