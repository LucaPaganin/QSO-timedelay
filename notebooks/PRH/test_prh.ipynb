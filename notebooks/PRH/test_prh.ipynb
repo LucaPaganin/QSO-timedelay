{
 "cells": [
  {
   "cell_type": "code",
   "execution_count": null,
   "metadata": {},
   "outputs": [],
   "source": [
    "import numpy as np\n",
    "import pandas as pd\n",
    "import itertools\n",
    "import h5py\n",
    "from astropy.stats import sigma_clip\n",
    "import matplotlib.pyplot as plt\n",
    "from scipy import stats\n",
    "from scipy import special\n",
    "from scipy import integrate\n",
    "from scipy import interpolate\n",
    "from scipy import linalg\n",
    "from scipy import signal\n",
    "from scipy.optimize import curve_fit\n",
    "import time\n",
    "from pathlib import Path\n",
    "import os\n",
    "import random\n",
    "from sklearn.gaussian_process import GaussianProcessRegressor\n",
    "from sklearn.gaussian_process.kernels import RBF, Matern, ConstantKernel\n",
    "\n",
    "plt.rcParams['figure.figsize'] = (8, 6)\n",
    "plt.rcParams['figure.dpi'] = 120\n",
    "#plt.rcParams['text.usetex'] = True\n",
    "\n",
    "import sys\n",
    "import mpld3\n",
    "\n",
    "from typing import Tuple\n",
    "\n",
    "def power_law_sf(tau, slope, intercept):\n",
    "    return 10**intercept * tau**slope\n",
    "\n",
    "\n",
    "def exp_sf(tau, V0, dt0):\n",
    "    return V0*(1-np.exp(-tau/dt0))\n",
    "\n",
    "\n",
    "def spline_sf(tau, v):\n",
    "    spline = interpolate.UnivariateSpline(tau, v, s=1e-6, k=3)\n",
    "    return spline\n",
    "\n",
    "\n",
    "def compute_lags_matrix(t) -> np.ndarray:\n",
    "    N = len(t)\n",
    "    t_row_repeated = np.repeat(t[np.newaxis, :], N, axis=0)\n",
    "    t_col_repeated = np.repeat(t[:, np.newaxis], N, axis=1)\n",
    "    tau = np.abs(t_row_repeated - t_col_repeated)\n",
    "    return tau\n",
    "\n",
    "\n",
    "def estimate_structure_func_from_data(t, y, err_y) -> Tuple[np.ndarray]:\n",
    "    N = len(t)\n",
    "    y_row_repeated = np.repeat(y[np.newaxis, :], N, axis=0)\n",
    "    y_col_repeated = np.repeat(y[:, np.newaxis], N, axis=1)\n",
    "    err_y_row_repeated = np.repeat(err_y[np.newaxis, :], N, axis=0)\n",
    "    err_y_col_repeated = np.repeat(err_y[:, np.newaxis], N, axis=1)\n",
    "    v = (y_row_repeated - y_col_repeated)**2 - (err_y_row_repeated**2 + err_y_col_repeated**2)\n",
    "    tau = compute_lags_matrix(t)\n",
    "    tau_v_sorted = np.array([[mytau, myv] for mytau, myv in sorted(zip(tau.ravel(), v.ravel()))])\n",
    "    tau_vals = tau_v_sorted[:, 0]\n",
    "    v_vals = tau_v_sorted[:, 1]\n",
    "    tau_binned = stats.binned_statistic(tau_vals, tau_vals, bins=100)[0]\n",
    "    v_binned = stats.binned_statistic(tau_vals, v_vals, bins=100)[0]\n",
    "    return tau_binned, v_binned\n",
    "\n",
    "def generate_PRH_light_curves(support, y, sigma, slope, intercept, delay):\n",
    "    N = len(support)\n",
    "    t_doubled = np.concatenate([support, support - delay])\n",
    "    err_doubled = np.concatenate([sigma, sigma])\n",
    "    tau_doubled = compute_lags_matrix(t_doubled)\n",
    "    s2 = (y**2).mean()\n",
    "    C = s2 - power_law_sf(tau_doubled, slope, intercept)\n",
    "    C += 1e-10*np.eye(2*N)\n",
    "    L = np.linalg.cholesky(C)\n",
    "    y_double = L @ np.random.normal(0, 1, 2*N) + err_doubled @ np.random.normal(0, 1, 2*N)\n",
    "    \n",
    "    #yA = y_double[:N] - y_double[:N].mean()\n",
    "    #yB = y_double[N:] - y_double[N:].mean()\n",
    "    yA = y_double[:N]\n",
    "    yB = y_double[N:]\n",
    "    \n",
    "    return yA, yB"
   ]
  },
  {
   "cell_type": "code",
   "execution_count": null,
   "metadata": {},
   "outputs": [],
   "source": [
    "file_path = Path('../data/cosmograil/HE0435_Bonvin2016.rdb_.txt')\n",
    "\n",
    "qso_id = file_path.name.split('_')[0]\n",
    "qso_data = pd.read_table(file_path)\n",
    "\n",
    "t = qso_data['mhjd'].to_numpy(dtype=np.float64)\n",
    "A = qso_data['mag_A'].to_numpy(dtype=np.float64)\n",
    "B = qso_data['mag_B'].to_numpy(dtype=np.float64)\n",
    "C = qso_data['mag_C'].to_numpy(dtype=np.float64)\n",
    "D = qso_data['mag_D'].to_numpy(dtype=np.float64)\n",
    "errA = qso_data['magerr_A'].to_numpy(dtype=np.float64)\n",
    "errB = qso_data['magerr_B'].to_numpy(dtype=np.float64)\n",
    "errC = qso_data['magerr_C'].to_numpy(dtype=np.float64)\n",
    "errD = qso_data['magerr_D'].to_numpy(dtype=np.float64)"
   ]
  },
  {
   "cell_type": "code",
   "execution_count": null,
   "metadata": {},
   "outputs": [],
   "source": [
    "plt.scatter(t, A, label=f'{qso_id} A')\n",
    "plt.scatter(t, B, label=f'{qso_id} B')\n",
    "plt.scatter(t, C, label=f'{qso_id} C')\n",
    "plt.scatter(t, D, label=f'{qso_id} D')\n",
    "plt.legend()"
   ]
  },
  {
   "cell_type": "code",
   "execution_count": null,
   "metadata": {},
   "outputs": [],
   "source": [
    "dts = np.diff(qso_data['mhjd'])\n",
    "\n",
    "new_dts = sigma_clip(dts, masked=False, cenfunc='mean')\n",
    "\n",
    "N_sampl_mean = (t[-1] - t[0])/new_dts.mean()\n",
    "\n",
    "print(N_sampl_mean)"
   ]
  },
  {
   "cell_type": "code",
   "execution_count": null,
   "metadata": {},
   "outputs": [],
   "source": [
    "image1 = 'A'\n",
    "image2 = 'D'\n",
    "\n",
    "subtract_mean = True\n",
    "\n",
    "curve_1 = qso_data[f'mag_{image1}'].values\n",
    "curve_2 = qso_data[f'mag_{image2}'].values\n",
    "\n",
    "if subtract_mean:\n",
    "    curve_1 -= curve_1.mean()\n",
    "    curve_2 -= curve_2.mean()\n",
    "\n",
    "y_input = curve_1 + curve_2\n",
    "err_input = qso_data[f'magerr_{image1}'].values + qso_data[f'magerr_{image2}'].values"
   ]
  },
  {
   "cell_type": "code",
   "execution_count": null,
   "metadata": {},
   "outputs": [],
   "source": [
    "kernel = ConstantKernel(2, (1e-3, 1e2)) * Matern(length_scale=200.0, length_scale_bounds=(1, 300), nu=1.5)\n",
    "\n",
    "gp = GaussianProcessRegressor(kernel=kernel, alpha=err_input**2, n_restarts_optimizer=10, \n",
    "                              optimizer='fmin_l_bfgs_b', normalize_y=True)\n",
    "\n",
    "gp.fit(np.expand_dims(t,1), y_input)\n",
    "\n",
    "N = 2000\n",
    "support = np.linspace(t[0], t[-1], N)\n",
    "\n",
    "y, sigma = gp.predict(np.expand_dims(support, 1), return_std=True)"
   ]
  },
  {
   "cell_type": "code",
   "execution_count": null,
   "metadata": {},
   "outputs": [],
   "source": [
    "np.savetxt(f'{qso_id}_{image1}_sum_{image2}_zero_mean.txt', y)"
   ]
  },
  {
   "cell_type": "code",
   "execution_count": null,
   "metadata": {},
   "outputs": [],
   "source": [
    "plt.scatter(t, y_input, color='b')\n",
    "plt.plot(support, y, color='b')\n",
    "plt.fill_between(support, y - 1.96*sigma, y + 1.96*sigma, fc='b', alpha=0.5)"
   ]
  },
  {
   "cell_type": "code",
   "execution_count": null,
   "metadata": {},
   "outputs": [],
   "source": [
    "tau, v = estimate_structure_func_from_data(support, A_pred, sigmaA)"
   ]
  },
  {
   "cell_type": "code",
   "execution_count": null,
   "metadata": {},
   "outputs": [],
   "source": [
    "beg_off = int(0.10*len(tau))\n",
    "cut_off = int(0.50*len(tau))\n",
    "\n",
    "x = tau[beg_off:cut_off]\n",
    "y = v[beg_off:cut_off]\n",
    "\n",
    "pars = stats.linregress(np.log10(x), np.log10(y))\n",
    "slope = pars.slope\n",
    "intercept = pars.intercept\n",
    "\n",
    "plt.loglog(x, y, linestyle='None', marker='o', color='blue')\n",
    "\n",
    "plt.loglog(x, 10**intercept * x**slope, color='red')"
   ]
  },
  {
   "cell_type": "code",
   "execution_count": null,
   "metadata": {},
   "outputs": [],
   "source": [
    "y = A_pred\n",
    "sigma = sigmaA\n",
    "delay = 50\n",
    "yA, yB = generate_PRH_light_curves(support, y, sigma, slope, intercept, delay)\n",
    "\n",
    "plt.plot(support, yA)\n",
    "plt.plot(support, yB)\n",
    "\n",
    "print(yA.mean())\n",
    "print(yB.mean())"
   ]
  },
  {
   "cell_type": "code",
   "execution_count": null,
   "metadata": {},
   "outputs": [],
   "source": [
    "np.savetxt(f'{qso_id}_B_sum_C.txt', y)"
   ]
  },
  {
   "cell_type": "code",
   "execution_count": null,
   "metadata": {},
   "outputs": [],
   "source": []
  },
  {
   "cell_type": "code",
   "execution_count": null,
   "metadata": {},
   "outputs": [],
   "source": [
    "plt.scatter(t, A-B)"
   ]
  },
  {
   "cell_type": "code",
   "execution_count": null,
   "metadata": {},
   "outputs": [],
   "source": [
    "(A-B).mean()"
   ]
  },
  {
   "cell_type": "code",
   "execution_count": null,
   "metadata": {},
   "outputs": [],
   "source": []
  }
 ],
 "metadata": {
  "kernelspec": {
   "display_name": "Python 3",
   "language": "python",
   "name": "python3"
  },
  "language_info": {
   "codemirror_mode": {
    "name": "ipython",
    "version": 3
   },
   "file_extension": ".py",
   "mimetype": "text/x-python",
   "name": "python",
   "nbconvert_exporter": "python",
   "pygments_lexer": "ipython3",
   "version": "3.7.6"
  }
 },
 "nbformat": 4,
 "nbformat_minor": 4
}
