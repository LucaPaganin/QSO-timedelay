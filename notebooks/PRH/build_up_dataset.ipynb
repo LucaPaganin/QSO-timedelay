{
 "cells": [
  {
   "cell_type": "code",
   "execution_count": null,
   "metadata": {},
   "outputs": [],
   "source": [
    "import h5py\n",
    "from pathlib import Path\n",
    "import numpy as np\n",
    "import matplotlib.pyplot as plt"
   ]
  },
  {
   "cell_type": "code",
   "execution_count": null,
   "metadata": {},
   "outputs": [],
   "source": [
    "orig_data_hf = h5py.File('../aux/datasets/J1206_AB.h5', 'r')\n",
    "\n",
    "slope = orig_data_hf['structure_function']['slope'][()]\n",
    "intercept = orig_data_hf['structure_function']['intercept'][()]\n",
    "orig_data_hf.close()"
   ]
  },
  {
   "cell_type": "code",
   "execution_count": null,
   "metadata": {},
   "outputs": [],
   "source": [
    "files = list(Path('../aux/datasets/J1206_dataset_2020-08-14T18-48-14/').glob('*/J1206_NMC_*.h5'))\n",
    "files.sort()"
   ]
  },
  {
   "cell_type": "code",
   "execution_count": null,
   "metadata": {},
   "outputs": [],
   "source": [
    "X_list = []\n",
    "y_list = []\n",
    "sf_mc_data = []\n",
    "\n",
    "for f in files:\n",
    "    hf = h5py.File(f, 'r')\n",
    "    X_list.append(hf['X'][()])\n",
    "    y_list.append(hf['y'][()])\n",
    "    sf_mc_data.append(hf['sf_mc_mean'][()])\n",
    "    hf.close()\n",
    "\n",
    "X = np.concatenate(X_list)\n",
    "y = np.concatenate(y_list)\n",
    "sf_mc_data = np.array(sf_mc_data)\n",
    "\n",
    "sf_mc_mean = np.mean(sf_mc_data, axis=0)"
   ]
  },
  {
   "cell_type": "code",
   "execution_count": null,
   "metadata": {},
   "outputs": [],
   "source": [
    "outdir = Path('../aux/datasets')\n",
    "outdir.mkdir(exist_ok=True)\n",
    "outfile_name = 'J1206_NMC_1e5_range_0_200.h5'\n",
    "hf_output = h5py.File(outdir / outfile_name, 'w')\n",
    "hf_output.create_dataset(name='X', data=X, compression='gzip', compression_opts=9)\n",
    "hf_output.create_dataset(name='y', data=y, compression='gzip', compression_opts=9)\n",
    "hf_output.create_dataset(name='sf_mc_mean', data=sf_mc_mean, compression='gzip', compression_opts=9)\n",
    "\n",
    "hf.close()"
   ]
  },
  {
   "cell_type": "code",
   "execution_count": null,
   "metadata": {},
   "outputs": [],
   "source": []
  },
  {
   "cell_type": "code",
   "execution_count": null,
   "metadata": {},
   "outputs": [],
   "source": []
  },
  {
   "cell_type": "code",
   "execution_count": null,
   "metadata": {},
   "outputs": [],
   "source": []
  }
 ],
 "metadata": {
  "kernelspec": {
   "display_name": "Python 3",
   "language": "python",
   "name": "python3"
  },
  "language_info": {
   "codemirror_mode": {
    "name": "ipython",
    "version": 3
   },
   "file_extension": ".py",
   "mimetype": "text/x-python",
   "name": "python",
   "nbconvert_exporter": "python",
   "pygments_lexer": "ipython3",
   "version": "3.7.6"
  }
 },
 "nbformat": 4,
 "nbformat_minor": 4
}
