{
 "cells": [
  {
   "cell_type": "code",
   "execution_count": null,
   "metadata": {},
   "outputs": [],
   "source": [
    "import h5py\n",
    "from pathlib import Path\n",
    "import numpy as np\n",
    "import matplotlib.pyplot as plt\n",
    "import sys\n",
    "\n",
    "sys.path.insert(0, '../../')\n",
    "\n",
    "from modules import utils"
   ]
  },
  {
   "cell_type": "code",
   "execution_count": null,
   "metadata": {},
   "outputs": [],
   "source": [
    "input_dir = Path('../../../outputs/HE0435_AB_dataset_2020-09-20T17-56-20/')\n",
    "output_file = Path('test.h5')\n",
    "files = list(input_dir.glob(\"*/*.h5\"))\n",
    "X_data = []\n",
    "y_data = []\n",
    "\n",
    "for file in files:\n",
    "    with h5py.File(file, 'r') as hf:\n",
    "        X_data.append(hf['X'][()])\n",
    "        y_data.append(hf['y'][()])\n",
    "\n",
    "X_data = np.concatenate(X_data)\n",
    "y_data = np.concatenate(y_data)"
   ]
  },
  {
   "cell_type": "code",
   "execution_count": null,
   "metadata": {},
   "outputs": [],
   "source": [
    "X_data.shape"
   ]
  },
  {
   "cell_type": "code",
   "execution_count": null,
   "metadata": {},
   "outputs": [],
   "source": [
    "out_file_mode = 'a' if output_file.exists() else 'w'\n",
    "\n",
    "with h5py.File(output_file, out_file_mode) as out_hf:\n",
    "    tr_grp = out_hf.create_group('training_data')\n",
    "    tr_grp.create_dataset(name='X', data=X_data, **utils.hdf5_opts)\n",
    "    tr_grp.create_dataset(name='y', data=y_data, **utils.hdf5_opts)"
   ]
  },
  {
   "cell_type": "code",
   "execution_count": null,
   "metadata": {},
   "outputs": [],
   "source": []
  }
 ],
 "metadata": {
  "kernelspec": {
   "display_name": "Python 3",
   "language": "python",
   "name": "python3"
  },
  "language_info": {
   "codemirror_mode": {
    "name": "ipython",
    "version": 3
   },
   "file_extension": ".py",
   "mimetype": "text/x-python",
   "name": "python",
   "nbconvert_exporter": "python",
   "pygments_lexer": "ipython3",
   "version": "3.7.6"
  }
 },
 "nbformat": 4,
 "nbformat_minor": 4
}
