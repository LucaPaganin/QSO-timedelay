{
 "cells": [
  {
   "cell_type": "code",
   "execution_count": null,
   "metadata": {},
   "outputs": [],
   "source": [
    "import numpy as np\n",
    "import pandas as pd\n",
    "import itertools\n",
    "import importlib\n",
    "import h5py\n",
    "from astropy.stats import sigma_clip\n",
    "import matplotlib.pyplot as plt\n",
    "from scipy import stats\n",
    "from scipy import special\n",
    "from scipy import integrate\n",
    "from scipy import interpolate\n",
    "from scipy import linalg\n",
    "from scipy import signal\n",
    "from scipy.optimize import curve_fit\n",
    "import time\n",
    "from pathlib import Path\n",
    "import os\n",
    "import re\n",
    "import random\n",
    "from sklearn.gaussian_process import GaussianProcessRegressor\n",
    "from sklearn.gaussian_process.kernels import RBF, Matern, ConstantKernel\n",
    "from typing import Tuple\n",
    "\n",
    "plt.rcParams['figure.figsize'] = (8, 6)\n",
    "plt.rcParams['figure.dpi'] = 120\n",
    "#plt.rcParams['text.usetex'] = True\n",
    "\n",
    "import sys\n",
    "\n",
    "sys.path.insert(0, '../..')\n",
    "\n",
    "from modules import prh_mc_utils as pmu\n",
    "importlib.reload(pmu)"
   ]
  },
  {
   "cell_type": "code",
   "execution_count": null,
   "metadata": {},
   "outputs": [],
   "source": [
    "def RMSE(y1, y2):\n",
    "    return np.sqrt(np.mean((y1-y2)**2))\n",
    "\n",
    "def RMaxSE(y1, y2):\n",
    "    return np.sqrt(np.max((y1-y2)**2))\n",
    "\n",
    "def linear(x, p0, p1):\n",
    "    return p0*x + p1"
   ]
  },
  {
   "cell_type": "code",
   "execution_count": null,
   "metadata": {},
   "outputs": [],
   "source": [
    "file_path = Path('../../data/cnn_base_data/original_data/HE0435_Bonvin2016.rdb_.txt')\n",
    "img1 = 'C'\n",
    "img2 = 'D'"
   ]
  },
  {
   "cell_type": "code",
   "execution_count": null,
   "metadata": {},
   "outputs": [],
   "source": [
    "qso_id = file_path.name.split('_')[0]\n",
    "print(qso_id)\n",
    "qso_data = pd.read_table(file_path)\n",
    "images = [re.search(r'mag_([A-Z])', col).groups()[0] \n",
    "          for col in qso_data.columns if re.search(r'mag_([A-Z])', col)]\n",
    "t = qso_data['mhjd'].to_numpy(dtype=np.float64)\n",
    "mags = {key: qso_data[f'mag_{key}'] for key in images}\n",
    "magerrs = {key: qso_data[f'magerr_{key}'] for key in images}"
   ]
  },
  {
   "cell_type": "code",
   "execution_count": null,
   "metadata": {},
   "outputs": [],
   "source": [
    "for image in mags:\n",
    "    plt.scatter(t, mags[image], label=f'{qso_id} {image}')\n",
    "plt.legend()"
   ]
  },
  {
   "cell_type": "code",
   "execution_count": null,
   "metadata": {},
   "outputs": [],
   "source": [
    "print(t[-1]-t[0])"
   ]
  },
  {
   "cell_type": "code",
   "execution_count": null,
   "metadata": {},
   "outputs": [],
   "source": [
    "mag1 = mags[img1]\n",
    "mag2 = mags[img2]\n",
    "magerr1 = magerrs[img1]\n",
    "magerr2 = magerrs[img2]\n",
    "\n",
    "y_input = pmu.mag_flux_sum(mag1, mag2)\n",
    "err_input = pmu.flux_sum_err(mag1, mag2, magerr1, magerr2)\n",
    "\n",
    "\n",
    "qso_dict = {'t': t, \n",
    "            f'{img1}': {'y': mag1, 'err_y': magerr1}, \n",
    "            f'{img1}': {'y': mag2, 'err_y': magerr2},\n",
    "            f'{img1}+{img2}': {'y': y_input, 'err_y': err_input}\n",
    "           }\n",
    "\n",
    "\n",
    "plt.scatter(t, mag1, label=f'{img1}')\n",
    "plt.scatter(t, mag2, label=f'{img2}')\n",
    "plt.scatter(t, y_input, label=f'{img1}+{img2}')\n",
    "plt.legend()"
   ]
  },
  {
   "cell_type": "code",
   "execution_count": null,
   "metadata": {},
   "outputs": [],
   "source": [
    "kernel = ConstantKernel(2, (1e-3, 1e2)) * Matern(length_scale=200.0, length_scale_bounds=(1, 300), nu=1.5)\n",
    "\n",
    "gp = GaussianProcessRegressor(kernel=kernel, alpha=err_input**2, n_restarts_optimizer=10, \n",
    "                              optimizer='fmin_l_bfgs_b', normalize_y=True)\n",
    "\n",
    "gp.fit(np.expand_dims(t,1), y_input)\n",
    "\n",
    "N = 2000\n",
    "dt_extension = 0\n",
    "support, step = np.linspace(t[0] - dt_extension, t[-1] + dt_extension, N, retstep=True)\n",
    "\n",
    "y_pred, cov_pred = gp.predict(np.expand_dims(support, 1), return_cov=True)\n",
    "sigma_pred = np.sqrt(np.diag(cov_pred))\n",
    "L = np.linalg.cholesky(cov_pred)\n",
    "win = int(dt_extension/step)\n",
    "\n",
    "gp_dict = {'t': support, 'y_pred': y_pred, 'sigma_pred': sigma_pred, 'cov_pred': cov_pred}\n",
    "\n",
    "plt.scatter(t, y_input, color='b')\n",
    "plt.plot(support, y_pred, color='b')\n",
    "plt.fill_between(support, y_pred - 1.96*sigma_pred, y_pred + 1.96*sigma_pred, fc='b', alpha=0.5)"
   ]
  },
  {
   "cell_type": "code",
   "execution_count": null,
   "metadata": {},
   "outputs": [],
   "source": [
    "tau, v = pmu.estimate_structure_func_from_data(support, y_pred, sigma_pred, n_bins=50)\n",
    "tau = tau[v>=0]\n",
    "v = v[v>=0]"
   ]
  },
  {
   "cell_type": "code",
   "execution_count": null,
   "metadata": {},
   "outputs": [],
   "source": [
    "max_lag = 0.60*tau[-1]\n",
    "\n",
    "tau_cut = tau[tau <= max_lag]\n",
    "v_cut   = v[tau <= max_lag]\n",
    "\n",
    "p = stats.linregress(np.log10(tau_cut), np.log10(v_cut))\n",
    "\n",
    "sf_dict = {'tau_cut': tau_cut, \n",
    "           'v_cut': v_cut,\n",
    "           'slope': p[0],\n",
    "           'intercept': p[1],\n",
    "           'tau_not_cut': tau,\n",
    "           'v_not_cut': v}\n",
    "\n",
    "print(f'Max lag: {tau_cut[-1]:.2f} days')\n",
    "plt.loglog(tau_cut, v_cut, linestyle='None', marker='o')\n",
    "plt.loglog(tau_cut, 10**p[1]*tau_cut**p[0], color='red')\n",
    "print(f'slope: {p[0]:.3f}, intercept: {p[1]:.3f}')\n",
    "\n"
   ]
  },
  {
   "cell_type": "code",
   "execution_count": null,
   "metadata": {},
   "outputs": [],
   "source": [
    "N_MC = 2\n",
    "delay_min = -200\n",
    "delay_max = +200\n",
    "\n",
    "delays = np.random.random(N_MC)*(delay_max - delay_min) + delay_min\n",
    "mag_shifts = np.random.random(N_MC)*2\n",
    "shrink_factors = np.random.random(N_MC)*(1.0 - 0.8) + 0.8\n",
    "\n",
    "delay = -200\n",
    "mag_shift = 0\n",
    "\n",
    "yA, yB = pmu.generate_PRH_light_curves(support=support, \n",
    "                                       y=y_pred, \n",
    "                                       sigma=sigma_pred, \n",
    "                                       slope=p[0], intercept=p[1], \n",
    "                                       delay=delay, mag_shift=mag_shift)\n",
    "\n",
    "plt.plot(support, yA, label=f'{img1}')\n",
    "plt.plot(support, yB, label=f'{img2}')\n",
    "#plt.plot(support, pmu.mag_flux_sum(yA, yB), label='A+B')\n",
    "plt.legend()"
   ]
  },
  {
   "cell_type": "code",
   "execution_count": null,
   "metadata": {},
   "outputs": [],
   "source": [
    "pmu.create_qso_base_file(qso_dict=qso_dict, \n",
    "                         gp_dict=gp_dict, \n",
    "                         sf_dict=sf_dict, \n",
    "                         outfile=Path(f'../../data/cnn_base_data/{qso_id}_{img1}{img2}.h5'))"
   ]
  },
  {
   "cell_type": "code",
   "execution_count": null,
   "metadata": {},
   "outputs": [],
   "source": [
    "hf = h5py.File('../../data/cnn_base_data/qso_base_data/J1206_AB.h5', 'r')"
   ]
  },
  {
   "cell_type": "code",
   "execution_count": null,
   "metadata": {},
   "outputs": [],
   "source": [
    "hf['qso_base_data']['structure_function'].keys()"
   ]
  },
  {
   "cell_type": "code",
   "execution_count": null,
   "metadata": {},
   "outputs": [],
   "source": []
  }
 ],
 "metadata": {
  "kernelspec": {
   "display_name": "Python 3",
   "language": "python",
   "name": "python3"
  },
  "language_info": {
   "codemirror_mode": {
    "name": "ipython",
    "version": 3
   },
   "file_extension": ".py",
   "mimetype": "text/x-python",
   "name": "python",
   "nbconvert_exporter": "python",
   "pygments_lexer": "ipython3",
   "version": "3.7.6"
  }
 },
 "nbformat": 4,
 "nbformat_minor": 4
}
